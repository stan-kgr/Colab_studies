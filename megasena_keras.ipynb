{
  "nbformat": 4,
  "nbformat_minor": 0,
  "metadata": {
    "kernelspec": {
      "name": "python3",
      "display_name": "Python 3"
    },
    "language_info": {
      "codemirror_mode": {
        "name": "ipython",
        "version": 3
      },
      "file_extension": ".py",
      "mimetype": "text/x-python",
      "name": "python",
      "nbconvert_exporter": "python",
      "pygments_lexer": "ipython3",
      "version": "3.6.8"
    },
    "colab": {
      "name": "megasena-keras.ipynb",
      "provenance": [],
      "collapsed_sections": [],
      "include_colab_link": true
    },
    "accelerator": "GPU"
  },
  "cells": [
    {
      "cell_type": "markdown",
      "metadata": {
        "id": "view-in-github",
        "colab_type": "text"
      },
      "source": [
        "<a href=\"https://colab.research.google.com/github/JairoRotava/Colab_studies/blob/master/megasena_keras.ipynb\" target=\"_parent\"><img src=\"https://colab.research.google.com/assets/colab-badge.svg\" alt=\"Open In Colab\"/></a>"
      ]
    },
    {
      "cell_type": "markdown",
      "metadata": {
        "id": "K-45pMwGESa2",
        "colab_type": "text"
      },
      "source": [
        "# Tutorial Colab, Keras e Mega-sena\n",
        "## Previsão de resultados mega-sena\n",
        "Este é um tutorial prático para uso da plataforma Colab e Keras para estudos de redes neurais. O Colab e Keras permitem os iniciantes testarem e aprenderem diferentes técnicas de machine learning com mais facilidade, já que o Colab oferece um ambiente pronto e um hardware bom, e o Keras simplifica o desenvolvimento de redes neurais, evitando detalhes técnicos que dificultam o entendimento do assunto. Voce precisa somente de um navegador de internet e uma conexão vagabunda. Não precisa instalr linux, nem ficar decifrando as várias versões e pacotes que precisam ser instalados para trabalhar com python e keras.\n",
        "\n",
        "O **Colab** é uma máquina virtual disponibilizada pelo Google. É um hardware relativamente poderoso, com bom processador, memória RAM e GPU. Dificilmente voce terá uma hardware melhor sem gastar muito dinheiro. O único detalhe é que a máquina dura no máximo 12h, depois disso qualquer coisa que foi salva ou feita é descartada.\n",
        "\n",
        "O **Keras** é um framework para redes neurais. Foi o framework mais fácil de utilizar que encontrei, e é ótimo para aprender, pois detalhes de implementação ficam escondidos e não atrapalham no entendimento da rede neural.\n",
        "\n",
        "O tutorial utiliza como base de dados os resultados da mega-sena e tenta fazer a previsão do próximo resultado. Os dados são obtidos diretamente na internet, descompactados, processados e utilizados como entrada em diferente tipo de redes.\n",
        "\n",
        "Para executar os comandos de forma sequencial pressione **shift+enter**."
      ]
    },
    {
      "cell_type": "code",
      "metadata": {
        "id": "Pr3Hhdv4gkzG",
        "colab_type": "code",
        "outputId": "9283726e-372a-4c38-eeff-ab0726d36abe",
        "colab": {
          "base_uri": "https://localhost:8080/",
          "height": 34
        }
      },
      "source": [
        "# Vamos dar uma checada no CPU da máquina virtual\n",
        "!lscpu |grep 'Model name'"
      ],
      "execution_count": 1,
      "outputs": [
        {
          "output_type": "stream",
          "text": [
            "Model name:          Intel(R) Xeon(R) CPU @ 2.00GHz\n"
          ],
          "name": "stdout"
        }
      ]
    },
    {
      "cell_type": "code",
      "metadata": {
        "id": "5M_gnkzNhez_",
        "colab_type": "code",
        "outputId": "9ba44183-1747-466b-fd97-f903f54cf5a1",
        "colab": {
          "base_uri": "https://localhost:8080/",
          "height": 34
        }
      },
      "source": [
        "# Memoria RAM\n",
        "!cat /proc/meminfo | grep 'MemAvailable'"
      ],
      "execution_count": 2,
      "outputs": [
        {
          "output_type": "stream",
          "text": [
            "MemAvailable:   12484244 kB\n"
          ],
          "name": "stdout"
        }
      ]
    },
    {
      "cell_type": "code",
      "metadata": {
        "id": "2c5ykP_Fhpv3",
        "colab_type": "code",
        "outputId": "ca90cb08-1c31-4c42-d9ef-a1a771deb20d",
        "colab": {
          "base_uri": "https://localhost:8080/",
          "height": 50
        }
      },
      "source": [
        "# Armazenamento\n",
        "!df -h / | awk '{print $4}'"
      ],
      "execution_count": 3,
      "outputs": [
        {
          "output_type": "stream",
          "text": [
            "Avail\n",
            "310G\n"
          ],
          "name": "stdout"
        }
      ]
    },
    {
      "cell_type": "code",
      "metadata": {
        "id": "KFjBVdWPhQiv",
        "colab_type": "code",
        "outputId": "26511fab-a11c-4888-ac4c-917477e7ab74",
        "colab": {
          "base_uri": "https://localhost:8080/",
          "height": 34
        }
      },
      "source": [
        "# Verifica GPU\n",
        "!nvidia-smi -L"
      ],
      "execution_count": 4,
      "outputs": [
        {
          "output_type": "stream",
          "text": [
            "GPU 0: Tesla T4 (UUID: GPU-071a5935-e8a1-f6da-084e-4a08061c49ed)\n"
          ],
          "name": "stdout"
        }
      ]
    },
    {
      "cell_type": "markdown",
      "metadata": {
        "id": "s16SBqBVHIaq",
        "colab_type": "text"
      },
      "source": [
        "# Obtendo resultados da Mega-sena\n",
        "Os dados são obtidos diretamente do site da caixa. No Colab temos disponível uma máquina virtual, e qualquer comando precedido do sinal de exclamação é executado no bash da maquina. Estamos falando de linux...claro..."
      ]
    },
    {
      "cell_type": "code",
      "metadata": {
        "id": "OieItGw0HVlA",
        "colab_type": "code",
        "outputId": "816fc46f-6268-41d4-f918-2e26c75d65b3",
        "colab": {
          "base_uri": "https://localhost:8080/",
          "height": 269
        }
      },
      "source": [
        "# Download dos resultados\n",
        "!wget 'http://www1.caixa.gov.br/loterias/_arquivos/loterias/D_megase.zip'"
      ],
      "execution_count": 5,
      "outputs": [
        {
          "output_type": "stream",
          "text": [
            "--2019-09-24 12:20:59--  http://www1.caixa.gov.br/loterias/_arquivos/loterias/D_megase.zip\n",
            "Resolving www1.caixa.gov.br (www1.caixa.gov.br)... 200.201.172.210\n",
            "Connecting to www1.caixa.gov.br (www1.caixa.gov.br)|200.201.172.210|:80... connected.\n",
            "HTTP request sent, awaiting response... 302 Found\n",
            "Location: http://www1.caixa.gov.br/loterias/_arquivos/loterias/D_megase.zip [following]\n",
            "--2019-09-24 12:21:00--  http://www1.caixa.gov.br/loterias/_arquivos/loterias/D_megase.zip\n",
            "Connecting to www1.caixa.gov.br (www1.caixa.gov.br)|200.201.172.210|:80... connected.\n",
            "HTTP request sent, awaiting response... 200 OK\n",
            "Length: unspecified [application/x-zip-compressed]\n",
            "Saving to: ‘D_megase.zip’\n",
            "\n",
            "D_megase.zip            [            <=>     ] 127.53K  50.2KB/s    in 2.5s    \n",
            "\n",
            "2019-09-24 12:21:03 (50.2 KB/s) - ‘D_megase.zip’ saved [130587]\n",
            "\n"
          ],
          "name": "stdout"
        }
      ]
    },
    {
      "cell_type": "code",
      "metadata": {
        "id": "68W5CuZoIvMZ",
        "colab_type": "code",
        "outputId": "577a8693-d5ae-457c-fc89-4a432720beab",
        "colab": {
          "base_uri": "https://localhost:8080/",
          "height": 67
        }
      },
      "source": [
        "# Descompacta arquivo\n",
        "!unzip -o 'D_megase.zip'"
      ],
      "execution_count": 6,
      "outputs": [
        {
          "output_type": "stream",
          "text": [
            "Archive:  D_megase.zip\n",
            "  inflating: d_mega.htm              \n",
            " extracting: t2.gif                  \n"
          ],
          "name": "stdout"
        }
      ]
    },
    {
      "cell_type": "code",
      "metadata": {
        "id": "-QOviqRoSIh4",
        "colab_type": "code",
        "outputId": "72290743-bc57-4228-fcfd-ff58784e742e",
        "colab": {
          "base_uri": "https://localhost:8080/",
          "height": 34
        }
      },
      "source": [
        "# Mostra os arquivo no diretório\n",
        "!ls"
      ],
      "execution_count": 7,
      "outputs": [
        {
          "output_type": "stream",
          "text": [
            "d_mega.htm  D_megase.zip  sample_data  t2.gif\n"
          ],
          "name": "stdout"
        }
      ]
    },
    {
      "cell_type": "code",
      "metadata": {
        "id": "PtZT79cZegaE",
        "colab_type": "code",
        "colab": {}
      },
      "source": [
        "# Importa as bibliotecas numpy e pandas, que são muito utilizadas em python\n",
        "import numpy               as np\n",
        "import pandas              as pd"
      ],
      "execution_count": 0,
      "outputs": []
    },
    {
      "cell_type": "code",
      "metadata": {
        "id": "ou_tnTSNI7ru",
        "colab_type": "code",
        "colab": {}
      },
      "source": [
        "# Transforma o arquivo html em dataframe do pandas.\n",
        "df_list = pd.read_html('d_mega.htm')\n",
        "df = df_list[0]\n",
        "# Remove os concursos duplicado. Os concursos com mais de um ganhador aparecem múltiplas vezes devido conversão do html para dataframe\n",
        "df.drop_duplicates(subset ='Concurso',keep = 'first', inplace = True)\n",
        "# Salva como arquivo csv\n",
        "df.to_csv('resultados_megasena.csv')"
      ],
      "execution_count": 0,
      "outputs": []
    },
    {
      "cell_type": "markdown",
      "metadata": {
        "id": "OVTuZjNYESa7",
        "colab_type": "text"
      },
      "source": [
        "# Avaliando os dados\n",
        "Agora vamos avaliar oque temos de dados. O arquivo salvo na etapa anterior é carrego e algumas informações são retiradas dele. Não seria necessário carregar o aquivo novamente, já que os dados estão disponiveis da etapa anterior, mas fazendo isso é possível recarregar os dados facilmente em caso de necessidade, \n",
        "sem precisar executar as etapas anteriores que são mais demoradas."
      ]
    },
    {
      "cell_type": "code",
      "metadata": {
        "id": "vAoGOTcBESa8",
        "colab_type": "code",
        "outputId": "c173d24c-05b6-4c48-d000-e4e11b54818c",
        "colab": {
          "base_uri": "https://localhost:8080/",
          "height": 232
        }
      },
      "source": [
        "# Le arquivo de dados\n",
        "df = pd.read_csv(\"resultados_megasena.csv\")\n",
        "\n",
        "# Apresenta os últimos elementos do  (rabo) do  dataframe\n",
        "df.tail()"
      ],
      "execution_count": 10,
      "outputs": [
        {
          "output_type": "execute_result",
          "data": {
            "text/html": [
              "<div>\n",
              "<style scoped>\n",
              "    .dataframe tbody tr th:only-of-type {\n",
              "        vertical-align: middle;\n",
              "    }\n",
              "\n",
              "    .dataframe tbody tr th {\n",
              "        vertical-align: top;\n",
              "    }\n",
              "\n",
              "    .dataframe thead th {\n",
              "        text-align: right;\n",
              "    }\n",
              "</style>\n",
              "<table border=\"1\" class=\"dataframe\">\n",
              "  <thead>\n",
              "    <tr style=\"text-align: right;\">\n",
              "      <th></th>\n",
              "      <th>Unnamed: 0</th>\n",
              "      <th>Concurso</th>\n",
              "      <th>Data Sorteio</th>\n",
              "      <th>1ª Dezena</th>\n",
              "      <th>2ª Dezena</th>\n",
              "      <th>3ª Dezena</th>\n",
              "      <th>4ª Dezena</th>\n",
              "      <th>5ª Dezena</th>\n",
              "      <th>6ª Dezena</th>\n",
              "      <th>Arrecadacao_Total</th>\n",
              "      <th>Ganhadores_Sena</th>\n",
              "      <th>Cidade</th>\n",
              "      <th>UF</th>\n",
              "      <th>Rateio_Sena</th>\n",
              "      <th>Ganhadores_Quina</th>\n",
              "      <th>Rateio_Quina</th>\n",
              "      <th>Ganhadores_Quadra</th>\n",
              "      <th>Rateio_Quadra</th>\n",
              "      <th>Acumulado</th>\n",
              "      <th>Valor_Acumulado</th>\n",
              "      <th>Estimativa_Prêmio</th>\n",
              "      <th>Acumulado_Mega_da_Virada</th>\n",
              "    </tr>\n",
              "  </thead>\n",
              "  <tbody>\n",
              "    <tr>\n",
              "      <th>2185</th>\n",
              "      <td>2453</td>\n",
              "      <td>2186</td>\n",
              "      <td>09/09/2019</td>\n",
              "      <td>27</td>\n",
              "      <td>19</td>\n",
              "      <td>12</td>\n",
              "      <td>41</td>\n",
              "      <td>18</td>\n",
              "      <td>46</td>\n",
              "      <td>90.063.86900</td>\n",
              "      <td>0</td>\n",
              "      <td>&amp;nbsp</td>\n",
              "      <td>&amp;nbsp</td>\n",
              "      <td>000</td>\n",
              "      <td>131</td>\n",
              "      <td>39.63811</td>\n",
              "      <td>11409</td>\n",
              "      <td>65018.0</td>\n",
              "      <td>SIM</td>\n",
              "      <td>82.828.32578</td>\n",
              "      <td>90.000.00000</td>\n",
              "      <td>69.230.18845</td>\n",
              "    </tr>\n",
              "    <tr>\n",
              "      <th>2186</th>\n",
              "      <td>2454</td>\n",
              "      <td>2187</td>\n",
              "      <td>11/09/2019</td>\n",
              "      <td>16</td>\n",
              "      <td>21</td>\n",
              "      <td>50</td>\n",
              "      <td>10</td>\n",
              "      <td>46</td>\n",
              "      <td>11</td>\n",
              "      <td>87.325.04200</td>\n",
              "      <td>0</td>\n",
              "      <td>&amp;nbsp</td>\n",
              "      <td>&amp;nbsp</td>\n",
              "      <td>000</td>\n",
              "      <td>124</td>\n",
              "      <td>40.60231</td>\n",
              "      <td>10072</td>\n",
              "      <td>71409.0</td>\n",
              "      <td>SIM</td>\n",
              "      <td>92.102.74661</td>\n",
              "      <td>100.000.00000</td>\n",
              "      <td>70.555.10572</td>\n",
              "    </tr>\n",
              "    <tr>\n",
              "      <th>2187</th>\n",
              "      <td>2455</td>\n",
              "      <td>2188</td>\n",
              "      <td>14/09/2019</td>\n",
              "      <td>60</td>\n",
              "      <td>51</td>\n",
              "      <td>21</td>\n",
              "      <td>28</td>\n",
              "      <td>2</td>\n",
              "      <td>17</td>\n",
              "      <td>126.808.83950</td>\n",
              "      <td>0</td>\n",
              "      <td>&amp;nbsp</td>\n",
              "      <td>&amp;nbsp</td>\n",
              "      <td>000</td>\n",
              "      <td>154</td>\n",
              "      <td>47.47472</td>\n",
              "      <td>13387</td>\n",
              "      <td>78019.0</td>\n",
              "      <td>SIM</td>\n",
              "      <td>105.570.57343</td>\n",
              "      <td>120.000.00000</td>\n",
              "      <td>72.479.08100</td>\n",
              "    </tr>\n",
              "    <tr>\n",
              "      <th>2188</th>\n",
              "      <td>2456</td>\n",
              "      <td>2189</td>\n",
              "      <td>18/09/2019</td>\n",
              "      <td>33</td>\n",
              "      <td>29</td>\n",
              "      <td>11</td>\n",
              "      <td>4</td>\n",
              "      <td>16</td>\n",
              "      <td>22</td>\n",
              "      <td>136.664.65050</td>\n",
              "      <td>1</td>\n",
              "      <td>BRASÍLIA</td>\n",
              "      <td>DF</td>\n",
              "      <td>120.085.14397</td>\n",
              "      <td>406</td>\n",
              "      <td>19.40724</td>\n",
              "      <td>24366</td>\n",
              "      <td>46196.0</td>\n",
              "      <td>NÃO</td>\n",
              "      <td>000</td>\n",
              "      <td>38.000.00000</td>\n",
              "      <td>74.552.59109</td>\n",
              "    </tr>\n",
              "    <tr>\n",
              "      <th>2189</th>\n",
              "      <td>2457</td>\n",
              "      <td>2190</td>\n",
              "      <td>21/09/2019</td>\n",
              "      <td>53</td>\n",
              "      <td>35</td>\n",
              "      <td>25</td>\n",
              "      <td>9</td>\n",
              "      <td>5</td>\n",
              "      <td>20</td>\n",
              "      <td>47.442.47550</td>\n",
              "      <td>0</td>\n",
              "      <td>&amp;nbsp</td>\n",
              "      <td>&amp;nbsp</td>\n",
              "      <td>000</td>\n",
              "      <td>94</td>\n",
              "      <td>29.09866</td>\n",
              "      <td>6835</td>\n",
              "      <td>57169.0</td>\n",
              "      <td>SIM</td>\n",
              "      <td>39.320.93903</td>\n",
              "      <td>44.000.00000</td>\n",
              "      <td>75.272.40015</td>\n",
              "    </tr>\n",
              "  </tbody>\n",
              "</table>\n",
              "</div>"
            ],
            "text/plain": [
              "      Unnamed: 0  Concurso  ... Estimativa_Prêmio  Acumulado_Mega_da_Virada\n",
              "2185        2453      2186  ...      90.000.00000              69.230.18845\n",
              "2186        2454      2187  ...     100.000.00000              70.555.10572\n",
              "2187        2455      2188  ...     120.000.00000              72.479.08100\n",
              "2188        2456      2189  ...      38.000.00000              74.552.59109\n",
              "2189        2457      2190  ...      44.000.00000              75.272.40015\n",
              "\n",
              "[5 rows x 22 columns]"
            ]
          },
          "metadata": {
            "tags": []
          },
          "execution_count": 10
        }
      ]
    },
    {
      "cell_type": "code",
      "metadata": {
        "id": "7VxbGXMWlnVZ",
        "colab_type": "code",
        "outputId": "264ba897-e933-461b-b185-7016d300102b",
        "colab": {
          "base_uri": "https://localhost:8080/",
          "height": 1000
        }
      },
      "source": [
        "# Obtem algumas informações básicas dos dados\n",
        "\n",
        "# Gera lista com todas dezenas\n",
        "dezenas = pd.DataFrame(df['1ª Dezena'].tolist() + df['2ª Dezena'].tolist() + df['3ª Dezena'].tolist() + df['4ª Dezena'].tolist() + df['5ª Dezena'].tolist() + df['6ª Dezena'].tolist(), columns=['numeros'])\n",
        "\n",
        "# Mostra frequencia das dezenas\n",
        "print('Frequencia das Dezenas')\n",
        "frequencia_dezenas = dezenas['numeros'].value_counts().sort_values(ascending=False)\n",
        "print(frequencia_dezenas)"
      ],
      "execution_count": 11,
      "outputs": [
        {
          "output_type": "stream",
          "text": [
            "Frequencia das Dezenas\n",
            "10    250\n",
            "53    247\n",
            "5     244\n",
            "54    239\n",
            "23    239\n",
            "4     238\n",
            "33    237\n",
            "51    236\n",
            "24    236\n",
            "42    234\n",
            "37    231\n",
            "17    230\n",
            "44    229\n",
            "34    229\n",
            "28    229\n",
            "27    229\n",
            "43    228\n",
            "16    227\n",
            "13    227\n",
            "30    227\n",
            "52    226\n",
            "36    226\n",
            "2     226\n",
            "56    225\n",
            "6     225\n",
            "50    224\n",
            "32    223\n",
            "35    223\n",
            "18    222\n",
            "29    222\n",
            "41    222\n",
            "8     221\n",
            "11    220\n",
            "12    219\n",
            "38    219\n",
            "59    218\n",
            "49    217\n",
            "1     217\n",
            "46    216\n",
            "58    214\n",
            "45    213\n",
            "47    212\n",
            "19    211\n",
            "40    210\n",
            "20    209\n",
            "31    208\n",
            "39    206\n",
            "7     205\n",
            "14    204\n",
            "25    204\n",
            "60    202\n",
            "48    201\n",
            "3     200\n",
            "57    198\n",
            "9     197\n",
            "15    197\n",
            "22    194\n",
            "21    193\n",
            "55    186\n",
            "26    179\n",
            "Name: numeros, dtype: int64\n"
          ],
          "name": "stdout"
        }
      ]
    },
    {
      "cell_type": "code",
      "metadata": {
        "id": "9flAhjDKjG9K",
        "colab_type": "code",
        "outputId": "13ef1cf8-d655-4e8f-827b-1af5c78344b8",
        "colab": {
          "base_uri": "https://localhost:8080/",
          "height": 295
        }
      },
      "source": [
        "# Importa biblioteca matplotlib para plotar os gráficos\n",
        "import matplotlib.pyplot   as plt\n",
        "%matplotlib inline\n",
        "pd.set_option('display.max_columns',500)\n",
        "\n",
        "# Histograma\n",
        "n, bins, patches = plt.hist(dezenas.to_numpy(), bins= np.arange(1 - 0.5, 60 + 0.5 + 1, 1))\n",
        "plt.xlabel('Dezenas')\n",
        "plt.ylabel('Contagem')\n",
        "plt.title('Histograma de sorteio de dezenas')\n",
        "plt.xlim(0.5, 60.5)\n",
        "plt.ylim(min(n)-2, max(n)+2)\n",
        "plt.grid(True)\n",
        "plt.show()"
      ],
      "execution_count": 12,
      "outputs": [
        {
          "output_type": "display_data",
          "data": {
            "image/png": "[encoded data removed]",
            "text/plain": [
              "<Figure size 432x288 with 1 Axes>"
            ]
          },
          "metadata": {
            "tags": []
          }
        }
      ]
    },
    {
      "cell_type": "markdown",
      "metadata": {
        "id": "7uWkEwXVESbB",
        "colab_type": "text"
      },
      "source": [
        "# Carrega Keras\n",
        "\n",
        "Carrega alguns compoentes do Keras e mostra se a GPU foi reconhecida pelo tensorflow (o tensorflow é utilizado pelo Keras. O Keras pode utilizar diferentes framework para redes neurais, mas o default é o tensoflow)"
      ]
    },
    {
      "cell_type": "code",
      "metadata": {
        "id": "7EtU0DOaESbC",
        "colab_type": "code",
        "outputId": "c59dd6a3-4227-4924-d5b2-e0043c4a43bc",
        "colab": {
          "base_uri": "https://localhost:8080/",
          "height": 487
        }
      },
      "source": [
        "import tensorflow as tf\n",
        "from tensorflow.keras import layers\n",
        "from tensorflow import keras\n",
        "from keras.models import Sequential\n",
        "from keras.layers import Dense, Activation\n",
        "\n",
        "# Mostra GPU instalada\n",
        "from tensorflow.python.client import device_lib\n",
        "device_lib.list_local_devices()"
      ],
      "execution_count": 13,
      "outputs": [
        {
          "output_type": "stream",
          "text": [
            "Using TensorFlow backend.\n"
          ],
          "name": "stderr"
        },
        {
          "output_type": "execute_result",
          "data": {
            "text/plain": [
              "[name: \"/device:CPU:0\"\n",
              " device_type: \"CPU\"\n",
              " memory_limit: 268435456\n",
              " locality {\n",
              " }\n",
              " incarnation: 3442642775952568683, name: \"/device:XLA_CPU:0\"\n",
              " device_type: \"XLA_CPU\"\n",
              " memory_limit: 17179869184\n",
              " locality {\n",
              " }\n",
              " incarnation: 4175420571691210549\n",
              " physical_device_desc: \"device: XLA_CPU device\", name: \"/device:XLA_GPU:0\"\n",
              " device_type: \"XLA_GPU\"\n",
              " memory_limit: 17179869184\n",
              " locality {\n",
              " }\n",
              " incarnation: 1479103627851368137\n",
              " physical_device_desc: \"device: XLA_GPU device\", name: \"/device:GPU:0\"\n",
              " device_type: \"GPU\"\n",
              " memory_limit: 14912199066\n",
              " locality {\n",
              "   bus_id: 1\n",
              "   links {\n",
              "   }\n",
              " }\n",
              " incarnation: 9808823951004185899\n",
              " physical_device_desc: \"device: 0, name: Tesla T4, pci bus id: 0000:00:04.0, compute capability: 7.5\"]"
            ]
          },
          "metadata": {
            "tags": []
          },
          "execution_count": 13
        }
      ]
    },
    {
      "cell_type": "markdown",
      "metadata": {
        "id": "LanNYZQ1mGoe",
        "colab_type": "text"
      },
      "source": [
        "# Rede neural simples\n",
        "Neste exemplo utilizamos uma rede simples. Voce pode tentar alterar o formato da rede, o numero de neuronios e o tipo de ativação. Como entrada são fornecidas as dezenas do sorteio atual e a rede deve prever as dezenas do próximo sorteio. "
      ]
    },
    {
      "cell_type": "code",
      "metadata": {
        "id": "bMEOeLMwj_wK",
        "colab_type": "code",
        "outputId": "66159d18-f0d6-42a8-9d03-52167c03a8d9",
        "colab": {
          "base_uri": "https://localhost:8080/",
          "height": 252
        }
      },
      "source": [
        "# definição do modelo\n",
        "N_DEZENAS = 6\n",
        "N_NEURONIOS = 120\n",
        "N_EPOCHS = 120\n",
        "\n",
        "model = keras.Sequential()\n",
        "model.add(keras.layers.Dense(N_NEURONIOS, input_shape=[N_DEZENAS], activation=\"relu\"))\n",
        "model.add(keras.layers.Dense(N_NEURONIOS))\n",
        "model.add(keras.layers.Dense(6))\n",
        "\n",
        "model.compile(loss=\"mse\",optimizer=\"adam\", metrics=[\"accuracy\"])\n",
        "model.summary()"
      ],
      "execution_count": 38,
      "outputs": [
        {
          "output_type": "stream",
          "text": [
            "Model: \"sequential_5\"\n",
            "_________________________________________________________________\n",
            "Layer (type)                 Output Shape              Param #   \n",
            "=================================================================\n",
            "dense_15 (Dense)             (None, 50)                350       \n",
            "_________________________________________________________________\n",
            "dense_16 (Dense)             (None, 50)                2550      \n",
            "_________________________________________________________________\n",
            "dense_17 (Dense)             (None, 6)                 306       \n",
            "=================================================================\n",
            "Total params: 3,206\n",
            "Trainable params: 3,206\n",
            "Non-trainable params: 0\n",
            "_________________________________________________________________\n"
          ],
          "name": "stdout"
        }
      ]
    },
    {
      "cell_type": "code",
      "metadata": {
        "id": "IXjMcgF2mAuo",
        "colab_type": "code",
        "colab": {}
      },
      "source": [
        "# Prepara dados e entrada e de validação\n",
        "\n",
        "# Sequencia de resultados\n",
        "resultados = pd.DataFrame(df[['1ª Dezena','2ª Dezena','3ª Dezena',\n",
        "                              '4ª Dezena','5ª Dezena','6ª Dezena',]]).to_numpy()\n",
        "N_RESULT = len(resultados)\n",
        "\n",
        "# X é são as 6 dezena de entrada, Y é o resultado do próximo sorteio.\n",
        "# Aqui todos os resultados menos o último vai em X, e todos os resultados menos o primeiro vai em Y\n",
        "X_series,y_series = resultados[:-1],resultados[1:]\n",
        "#separa 90% dos dados para treino e restante para validação\n",
        "N_TREINO = int(0.9 * N_RESULT)\n",
        "X_train, y_train = X_series[:N_TREINO], y_series[:N_TREINO]\n",
        "X_valid, y_valid = X_series[:-N_TREINO], y_series[:-N_TREINO]"
      ],
      "execution_count": 0,
      "outputs": []
    },
    {
      "cell_type": "code",
      "metadata": {
        "id": "D8mX_lSzo9YQ",
        "colab_type": "code",
        "outputId": "d5f834ed-453a-4940-c6ba-8e72039197b8",
        "colab": {
          "base_uri": "https://localhost:8080/",
          "height": 1000
        }
      },
      "source": [
        "# Treina a rede\n",
        "VALIDATION_SPLIT = 0.3\n",
        "BATCH_SIZE = 32\n",
        "\n",
        "# exemplo utilizando validacao de dados separados\n",
        "#history = model.fit(X_train, y_train, validation_data=(X_valid, y_valid),epochs=N_EPOCHS)\n",
        "\n",
        "# exemplo separando dados de validacao dinamicamente a cada batch\n",
        "history = model.fit(X_series, y_series, validation_split=VALIDATION_SPLIT,\n",
        "                    batch_size=BATCH_SIZE,epochs=N_EPOCHS, shuffle=True, \n",
        "                    verbose=2)\n",
        "\n"
      ],
      "execution_count": 40,
      "outputs": [
        {
          "output_type": "stream",
          "text": [
            "Train on 1532 samples, validate on 657 samples\n",
            "Epoch 1/50\n",
            "1532/1532 - 0s - loss: 529.9754 - acc: 0.1802 - val_loss: 342.6591 - val_acc: 0.1446\n",
            "Epoch 2/50\n",
            "1532/1532 - 0s - loss: 344.9617 - acc: 0.1756 - val_loss: 327.7310 - val_acc: 0.1826\n",
            "Epoch 3/50\n",
            "1532/1532 - 0s - loss: 334.4386 - acc: 0.1808 - val_loss: 325.7158 - val_acc: 0.1689\n",
            "Epoch 4/50\n",
            "1532/1532 - 0s - loss: 331.6687 - acc: 0.1710 - val_loss: 322.4990 - val_acc: 0.1948\n",
            "Epoch 5/50\n",
            "1532/1532 - 0s - loss: 328.6831 - acc: 0.1736 - val_loss: 324.1518 - val_acc: 0.2055\n",
            "Epoch 6/50\n",
            "1532/1532 - 0s - loss: 327.2196 - acc: 0.1730 - val_loss: 321.4688 - val_acc: 0.1811\n",
            "Epoch 7/50\n",
            "1532/1532 - 0s - loss: 326.1037 - acc: 0.1749 - val_loss: 320.7687 - val_acc: 0.1735\n",
            "Epoch 8/50\n",
            "1532/1532 - 0s - loss: 324.4303 - acc: 0.1886 - val_loss: 319.1353 - val_acc: 0.1903\n",
            "Epoch 9/50\n",
            "1532/1532 - 0s - loss: 323.9937 - acc: 0.1821 - val_loss: 320.5154 - val_acc: 0.1781\n",
            "Epoch 10/50\n",
            "1532/1532 - 0s - loss: 324.0974 - acc: 0.1762 - val_loss: 319.0801 - val_acc: 0.1750\n",
            "Epoch 11/50\n",
            "1532/1532 - 0s - loss: 322.4275 - acc: 0.1880 - val_loss: 318.6978 - val_acc: 0.1735\n",
            "Epoch 12/50\n",
            "1532/1532 - 0s - loss: 321.6326 - acc: 0.1952 - val_loss: 320.7442 - val_acc: 0.1750\n",
            "Epoch 13/50\n",
            "1532/1532 - 0s - loss: 321.7514 - acc: 0.1847 - val_loss: 318.8672 - val_acc: 0.1918\n",
            "Epoch 14/50\n",
            "1532/1532 - 0s - loss: 321.5660 - acc: 0.1926 - val_loss: 321.8643 - val_acc: 0.1629\n",
            "Epoch 15/50\n",
            "1532/1532 - 0s - loss: 321.1693 - acc: 0.1893 - val_loss: 319.8164 - val_acc: 0.1887\n",
            "Epoch 16/50\n",
            "1532/1532 - 0s - loss: 320.6892 - acc: 0.2004 - val_loss: 319.7602 - val_acc: 0.1629\n",
            "Epoch 17/50\n",
            "1532/1532 - 0s - loss: 319.5167 - acc: 0.1867 - val_loss: 319.2294 - val_acc: 0.1720\n",
            "Epoch 18/50\n",
            "1532/1532 - 0s - loss: 319.6589 - acc: 0.2043 - val_loss: 320.5487 - val_acc: 0.1811\n",
            "Epoch 19/50\n",
            "1532/1532 - 0s - loss: 318.5891 - acc: 0.1971 - val_loss: 318.9501 - val_acc: 0.1750\n",
            "Epoch 20/50\n",
            "1532/1532 - 0s - loss: 318.8760 - acc: 0.1971 - val_loss: 320.9337 - val_acc: 0.1689\n",
            "Epoch 21/50\n",
            "1532/1532 - 0s - loss: 318.5348 - acc: 0.1841 - val_loss: 319.2231 - val_acc: 0.1903\n",
            "Epoch 22/50\n",
            "1532/1532 - 0s - loss: 317.5190 - acc: 0.2148 - val_loss: 318.4829 - val_acc: 0.1826\n",
            "Epoch 23/50\n",
            "1532/1532 - 0s - loss: 317.6191 - acc: 0.2115 - val_loss: 318.4834 - val_acc: 0.1887\n",
            "Epoch 24/50\n",
            "1532/1532 - 0s - loss: 318.1067 - acc: 0.1926 - val_loss: 319.1177 - val_acc: 0.1766\n",
            "Epoch 25/50\n",
            "1532/1532 - 0s - loss: 316.7920 - acc: 0.2226 - val_loss: 318.8786 - val_acc: 0.1674\n",
            "Epoch 26/50\n",
            "1532/1532 - 0s - loss: 318.1545 - acc: 0.1893 - val_loss: 319.1284 - val_acc: 0.1568\n",
            "Epoch 27/50\n",
            "1532/1532 - 0s - loss: 316.1289 - acc: 0.2063 - val_loss: 319.0450 - val_acc: 0.1689\n",
            "Epoch 28/50\n",
            "1532/1532 - 0s - loss: 315.6415 - acc: 0.2010 - val_loss: 319.8935 - val_acc: 0.1689\n",
            "Epoch 29/50\n",
            "1532/1532 - 0s - loss: 315.8307 - acc: 0.2004 - val_loss: 318.2057 - val_acc: 0.1766\n",
            "Epoch 30/50\n",
            "1532/1532 - 0s - loss: 316.4057 - acc: 0.1873 - val_loss: 319.4481 - val_acc: 0.1750\n",
            "Epoch 31/50\n",
            "1532/1532 - 0s - loss: 315.9190 - acc: 0.2004 - val_loss: 318.2345 - val_acc: 0.1735\n",
            "Epoch 32/50\n",
            "1532/1532 - 0s - loss: 315.7062 - acc: 0.1997 - val_loss: 319.0629 - val_acc: 0.1826\n",
            "Epoch 33/50\n",
            "1532/1532 - 0s - loss: 315.2754 - acc: 0.2226 - val_loss: 319.3897 - val_acc: 0.1903\n",
            "Epoch 34/50\n",
            "1532/1532 - 0s - loss: 315.6120 - acc: 0.2004 - val_loss: 318.8577 - val_acc: 0.1781\n",
            "Epoch 35/50\n",
            "1532/1532 - 0s - loss: 315.1066 - acc: 0.2037 - val_loss: 317.6556 - val_acc: 0.1705\n",
            "Epoch 36/50\n",
            "1532/1532 - 0s - loss: 313.9408 - acc: 0.2193 - val_loss: 322.3586 - val_acc: 0.1811\n",
            "Epoch 37/50\n",
            "1532/1532 - 0s - loss: 314.2355 - acc: 0.1939 - val_loss: 319.2114 - val_acc: 0.1796\n",
            "Epoch 38/50\n",
            "1532/1532 - 0s - loss: 313.6156 - acc: 0.2076 - val_loss: 320.8089 - val_acc: 0.1644\n",
            "Epoch 39/50\n",
            "1532/1532 - 0s - loss: 314.1368 - acc: 0.2161 - val_loss: 318.5395 - val_acc: 0.1963\n",
            "Epoch 40/50\n",
            "1532/1532 - 0s - loss: 313.8862 - acc: 0.2161 - val_loss: 317.5643 - val_acc: 0.1735\n",
            "Epoch 41/50\n",
            "1532/1532 - 0s - loss: 313.2398 - acc: 0.1978 - val_loss: 316.9425 - val_acc: 0.1750\n",
            "Epoch 42/50\n",
            "1532/1532 - 0s - loss: 312.0293 - acc: 0.2226 - val_loss: 316.8777 - val_acc: 0.1735\n",
            "Epoch 43/50\n",
            "1532/1532 - 0s - loss: 312.6077 - acc: 0.2089 - val_loss: 317.2735 - val_acc: 0.1674\n",
            "Epoch 44/50\n",
            "1532/1532 - 0s - loss: 313.1452 - acc: 0.2023 - val_loss: 317.8982 - val_acc: 0.1842\n",
            "Epoch 45/50\n",
            "1532/1532 - 0s - loss: 312.3447 - acc: 0.2056 - val_loss: 316.2165 - val_acc: 0.1750\n",
            "Epoch 46/50\n",
            "1532/1532 - 0s - loss: 311.4630 - acc: 0.2108 - val_loss: 318.9831 - val_acc: 0.1613\n",
            "Epoch 47/50\n",
            "1532/1532 - 0s - loss: 311.3835 - acc: 0.2089 - val_loss: 318.3232 - val_acc: 0.1766\n",
            "Epoch 48/50\n",
            "1532/1532 - 0s - loss: 312.7361 - acc: 0.2089 - val_loss: 321.2752 - val_acc: 0.1522\n",
            "Epoch 49/50\n",
            "1532/1532 - 0s - loss: 311.5731 - acc: 0.2076 - val_loss: 318.2606 - val_acc: 0.1644\n",
            "Epoch 50/50\n",
            "1532/1532 - 0s - loss: 311.0252 - acc: 0.2174 - val_loss: 317.5715 - val_acc: 0.1720\n"
          ],
          "name": "stdout"
        }
      ]
    },
    {
      "cell_type": "code",
      "metadata": {
        "id": "8q2PfC_iwNVL",
        "colab_type": "code",
        "outputId": "03b5f6e1-7f54-42f8-829d-163950a9c1da",
        "colab": {
          "base_uri": "https://localhost:8080/",
          "height": 337
        }
      },
      "source": [
        "# Mostra evolução de loss\n",
        "plt.subplot(2, 1, 1)\n",
        "plt.plot(history.history['loss'])\n",
        "plt.title('loss')\n",
        "plt.ylabel('loss')\n",
        "plt.xlabel('epoch')\n",
        "plt.legend(['loss'], loc='upper left')\n",
        "plt.show()\n",
        "\n",
        "plt.subplot(2, 1, 2)\n",
        "plt.plot(history.history['accuracy'])\n",
        "plt.title('accuracy')\n",
        "plt.ylabel('accuracy')\n",
        "plt.xlabel('epoch')\n",
        "plt.legend(['accuracy'], loc='upper left')\n",
        "plt.show()\n"
      ],
      "execution_count": 46,
      "outputs": [
        {
          "output_type": "display_data",
          "data": {
            "image/png": "[encoded data removed]",
            "text/plain": [
              "<Figure size 432x288 with 1 Axes>"
            ]
          },
          "metadata": {
            "tags": []
          }
        },
        {
          "output_type": "display_data",
          "data": {
            "image/png": "[encoded data removed]",
            "text/plain": [
              "<Figure size 432x288 with 1 Axes>"
            ]
          },
          "metadata": {
            "tags": []
          }
        }
      ]
    },
    {
      "cell_type": "code",
      "metadata": {
        "id": "JkOLcSTLtDwJ",
        "colab_type": "code",
        "outputId": "0efe4a6b-9367-46c5-fc06-c62bda953ff3",
        "colab": {
          "base_uri": "https://localhost:8080/",
          "height": 34
        }
      },
      "source": [
        "ultimo_resultado = resultados[-1:]\n",
        "ultimo_resultado"
      ],
      "execution_count": 47,
      "outputs": [
        {
          "output_type": "execute_result",
          "data": {
            "text/plain": [
              "array([[53, 35, 25,  9,  5, 20]])"
            ]
          },
          "metadata": {
            "tags": []
          },
          "execution_count": 47
        }
      ]
    },
    {
      "cell_type": "code",
      "metadata": {
        "id": "TkNyGEAPszPY",
        "colab_type": "code",
        "outputId": "ed702de0-fab8-4e18-b30b-05a0eb192ac6",
        "colab": {
          "base_uri": "https://localhost:8080/",
          "height": 50
        }
      },
      "source": [
        "# Faz previsão da próxima dezena utilizando o ultimo resultado\n",
        "previsao = model.predict(ultimo_resultado)\n",
        "previsao"
      ],
      "execution_count": 48,
      "outputs": [
        {
          "output_type": "execute_result",
          "data": {
            "text/plain": [
              "array([[28.037334, 24.655367, 25.862461, 28.0622  , 30.172274, 25.977528]],\n",
              "      dtype=float32)"
            ]
          },
          "metadata": {
            "tags": []
          },
          "execution_count": 48
        }
      ]
    },
    {
      "cell_type": "markdown",
      "metadata": {
        "id": "SFfLQuVZw2h0",
        "colab_type": "text"
      },
      "source": [
        "hummm...isso aqui não parece bom. Os numero são tudo quebrados, e não tem nenhum tipo de informação de tempo na rede. A entrada é somente as últimas dezenas, talvez a gente deva tentar fornecer uma sequencia de jogos para ver se o resultado melhora. Vamos tentar outro tipo de  rede."
      ]
    },
    {
      "cell_type": "markdown",
      "metadata": {
        "id": "8IzOiuqSc4cF",
        "colab_type": "text"
      },
      "source": [
        "# RNN Simples\n",
        "\n",
        "O próximo passo é utilizar uma rede que tenha algum tipo de memória temporal. Para isso vamos utilizar uma rede simples RNN, que tem como entrada os últimos N_SORTEIOS e na saída apresenta a previsão do próximo sorteio."
      ]
    },
    {
      "cell_type": "code",
      "metadata": {
        "id": "o8JZNZVQESbL",
        "colab_type": "code",
        "outputId": "89a97cc1-c0f0-4bae-c37e-9f3e9621b4ef",
        "colab": {
          "base_uri": "https://localhost:8080/",
          "height": 218
        }
      },
      "source": [
        "# Note que aqui o modelo de declarado de outra forma, em forma de função\n",
        "# Este é apenas outra forma de declarar o modelo.\n",
        "model = tf.keras.Sequential([\n",
        "    keras.layers.SimpleRNN(N_NEURONIOS, return_sequences=True, input_shape=[None, N_DEZENAS], activation=\"relu\"),\n",
        "#    keras.layers.GRU(20, return_sequences=True),\n",
        "#    keras.layers.LSTM(20, return_sequences=True),\n",
        "    keras.layers.Dense(6)\n",
        "])\n",
        "model.compile(loss=\"mse\",optimizer=\"adam\", metrics=[\"accuracy\"])\n",
        "model.summary()"
      ],
      "execution_count": 49,
      "outputs": [
        {
          "output_type": "stream",
          "text": [
            "Model: \"sequential_6\"\n",
            "_________________________________________________________________\n",
            "Layer (type)                 Output Shape              Param #   \n",
            "=================================================================\n",
            "simple_rnn (SimpleRNN)       (None, None, 50)          2850      \n",
            "_________________________________________________________________\n",
            "dense_18 (Dense)             (None, None, 6)           306       \n",
            "=================================================================\n",
            "Total params: 3,156\n",
            "Trainable params: 3,156\n",
            "Non-trainable params: 0\n",
            "_________________________________________________________________\n"
          ],
          "name": "stdout"
        }
      ]
    },
    {
      "cell_type": "code",
      "metadata": {
        "id": "fPyrxLvBztA3",
        "colab_type": "code",
        "colab": {}
      },
      "source": [
        "# Dados de entrada\n",
        "\n",
        "N_SORTEIOS = 40\n",
        "\n",
        "# X são as dezena dos ultimos N_SORTEIOS de entrada, Y são os N_SORTEIOS deslocados em uma posição para frente\n",
        "i0 = np.arange(N_RESULT-N_SORTEIOS).reshape((N_RESULT-N_SORTEIOS,1))\n",
        "Is = i0 + np.arange(0, N_SORTEIOS + 1)\n",
        "ys = resultados[Is]\n",
        "\n",
        "X_series,y_series = ys[:, :-1].reshape(-1, N_SORTEIOS, N_DEZENAS), ys[:, 1:].reshape(-1, N_SORTEIOS, N_DEZENAS)\n",
        "\n",
        "#separa 90% dos dados para treino e restante para validação\n",
        "N_TREINO = int(0.9 * N_RESULT)\n",
        "X_train, y_train = X_series[:N_TREINO], y_series[:N_TREINO]\n",
        "X_valid, y_valid = X_series[:-N_TREINO], y_series[:-N_TREINO]"
      ],
      "execution_count": 0,
      "outputs": []
    },
    {
      "cell_type": "code",
      "metadata": {
        "id": "M1BcOMUD6RzQ",
        "colab_type": "code",
        "outputId": "f262f598-a06b-4757-8e3e-36f54ce6e828",
        "colab": {
          "base_uri": "https://localhost:8080/",
          "height": 1000
        }
      },
      "source": [
        "history = model.fit(X_train, y_train, epochs=N_EPOCHS, \n",
        "                   validation_data=(X_valid, y_valid))"
      ],
      "execution_count": 51,
      "outputs": [
        {
          "output_type": "stream",
          "text": [
            "Train on 1533 samples, validate on 617 samples\n",
            "Epoch 1/50\n",
            "1533/1533 [==============================] - 1s 640us/sample - loss: 539.6002 - acc: 0.1720 - val_loss: 360.3855 - val_acc: 0.1816\n",
            "Epoch 2/50\n",
            "1533/1533 [==============================] - 1s 460us/sample - loss: 347.9402 - acc: 0.1785 - val_loss: 327.3825 - val_acc: 0.1818\n",
            "Epoch 3/50\n",
            "1533/1533 [==============================] - 1s 457us/sample - loss: 326.1158 - acc: 0.1888 - val_loss: 312.2606 - val_acc: 0.2115\n",
            "Epoch 4/50\n",
            "1533/1533 [==============================] - 1s 449us/sample - loss: 315.2255 - acc: 0.1967 - val_loss: 303.8876 - val_acc: 0.2143\n",
            "Epoch 5/50\n",
            "1533/1533 [==============================] - 1s 451us/sample - loss: 308.8974 - acc: 0.1954 - val_loss: 298.7947 - val_acc: 0.2119\n",
            "Epoch 6/50\n",
            "1533/1533 [==============================] - 1s 448us/sample - loss: 304.7427 - acc: 0.1981 - val_loss: 295.8351 - val_acc: 0.2160\n",
            "Epoch 7/50\n",
            "1533/1533 [==============================] - 1s 471us/sample - loss: 301.6185 - acc: 0.1994 - val_loss: 292.6156 - val_acc: 0.2186\n",
            "Epoch 8/50\n",
            "1533/1533 [==============================] - 1s 477us/sample - loss: 298.7778 - acc: 0.2027 - val_loss: 291.3604 - val_acc: 0.2151\n",
            "Epoch 9/50\n",
            "1533/1533 [==============================] - 1s 455us/sample - loss: 296.2627 - acc: 0.2105 - val_loss: 288.4542 - val_acc: 0.2181\n",
            "Epoch 10/50\n",
            "1533/1533 [==============================] - 1s 450us/sample - loss: 293.8793 - acc: 0.2148 - val_loss: 285.9264 - val_acc: 0.2287\n",
            "Epoch 11/50\n",
            "1533/1533 [==============================] - 1s 460us/sample - loss: 291.7806 - acc: 0.2203 - val_loss: 284.6036 - val_acc: 0.2210\n",
            "Epoch 12/50\n",
            "1533/1533 [==============================] - 1s 457us/sample - loss: 289.4268 - acc: 0.2276 - val_loss: 282.2040 - val_acc: 0.2353\n",
            "Epoch 13/50\n",
            "1533/1533 [==============================] - 1s 456us/sample - loss: 287.6595 - acc: 0.2374 - val_loss: 281.5639 - val_acc: 0.2487\n",
            "Epoch 14/50\n",
            "1533/1533 [==============================] - 1s 464us/sample - loss: 285.3961 - acc: 0.2450 - val_loss: 278.8367 - val_acc: 0.2494\n",
            "Epoch 15/50\n",
            "1533/1533 [==============================] - 1s 444us/sample - loss: 283.3737 - acc: 0.2526 - val_loss: 277.3005 - val_acc: 0.2613\n",
            "Epoch 16/50\n",
            "1533/1533 [==============================] - 1s 468us/sample - loss: 281.6100 - acc: 0.2564 - val_loss: 275.9702 - val_acc: 0.2691\n",
            "Epoch 17/50\n",
            "1533/1533 [==============================] - 1s 456us/sample - loss: 279.3585 - acc: 0.2611 - val_loss: 273.8901 - val_acc: 0.2651\n",
            "Epoch 18/50\n",
            "1533/1533 [==============================] - 1s 455us/sample - loss: 277.4490 - acc: 0.2679 - val_loss: 272.7639 - val_acc: 0.2729\n",
            "Epoch 19/50\n",
            "1533/1533 [==============================] - 1s 458us/sample - loss: 275.6900 - acc: 0.2698 - val_loss: 270.0408 - val_acc: 0.2697\n",
            "Epoch 20/50\n",
            "1533/1533 [==============================] - 1s 453us/sample - loss: 273.8761 - acc: 0.2762 - val_loss: 269.6209 - val_acc: 0.2749\n",
            "Epoch 21/50\n",
            "1533/1533 [==============================] - 1s 457us/sample - loss: 271.8223 - acc: 0.2806 - val_loss: 267.0015 - val_acc: 0.2908\n",
            "Epoch 22/50\n",
            "1533/1533 [==============================] - 1s 449us/sample - loss: 270.0179 - acc: 0.2873 - val_loss: 265.2422 - val_acc: 0.2910\n",
            "Epoch 23/50\n",
            "1533/1533 [==============================] - 1s 460us/sample - loss: 268.3768 - acc: 0.2909 - val_loss: 263.6243 - val_acc: 0.2919\n",
            "Epoch 24/50\n",
            "1533/1533 [==============================] - 1s 447us/sample - loss: 266.5924 - acc: 0.2925 - val_loss: 262.1163 - val_acc: 0.2891\n",
            "Epoch 25/50\n",
            "1533/1533 [==============================] - 1s 452us/sample - loss: 265.0142 - acc: 0.2944 - val_loss: 260.3876 - val_acc: 0.2866\n",
            "Epoch 26/50\n",
            "1533/1533 [==============================] - 1s 446us/sample - loss: 263.6495 - acc: 0.2959 - val_loss: 258.6652 - val_acc: 0.2931\n",
            "Epoch 27/50\n",
            "1533/1533 [==============================] - 1s 457us/sample - loss: 261.8686 - acc: 0.2994 - val_loss: 256.9213 - val_acc: 0.2964\n",
            "Epoch 28/50\n",
            "1533/1533 [==============================] - 1s 469us/sample - loss: 260.5142 - acc: 0.3019 - val_loss: 255.6774 - val_acc: 0.2972\n",
            "Epoch 29/50\n",
            "1533/1533 [==============================] - 1s 467us/sample - loss: 259.2691 - acc: 0.3042 - val_loss: 253.9819 - val_acc: 0.2949\n",
            "Epoch 30/50\n",
            "1533/1533 [==============================] - 1s 465us/sample - loss: 257.9147 - acc: 0.3086 - val_loss: 252.9485 - val_acc: 0.2964\n",
            "Epoch 31/50\n",
            "1533/1533 [==============================] - 1s 472us/sample - loss: 256.7581 - acc: 0.3112 - val_loss: 251.5972 - val_acc: 0.3055\n",
            "Epoch 32/50\n",
            "1533/1533 [==============================] - 1s 453us/sample - loss: 255.4468 - acc: 0.3146 - val_loss: 250.7276 - val_acc: 0.3079\n",
            "Epoch 33/50\n",
            "1533/1533 [==============================] - 1s 442us/sample - loss: 254.5638 - acc: 0.3168 - val_loss: 249.0910 - val_acc: 0.3098\n",
            "Epoch 34/50\n",
            "1533/1533 [==============================] - 1s 470us/sample - loss: 253.1330 - acc: 0.3182 - val_loss: 248.0766 - val_acc: 0.3085\n",
            "Epoch 35/50\n",
            "1533/1533 [==============================] - 1s 457us/sample - loss: 251.9447 - acc: 0.3215 - val_loss: 247.6374 - val_acc: 0.3130\n",
            "Epoch 36/50\n",
            "1533/1533 [==============================] - 1s 450us/sample - loss: 250.8882 - acc: 0.3223 - val_loss: 247.0838 - val_acc: 0.3146\n",
            "Epoch 37/50\n",
            "1533/1533 [==============================] - 1s 462us/sample - loss: 250.2116 - acc: 0.3252 - val_loss: 245.7294 - val_acc: 0.3166\n",
            "Epoch 38/50\n",
            "1533/1533 [==============================] - 1s 449us/sample - loss: 248.9315 - acc: 0.3265 - val_loss: 244.7567 - val_acc: 0.3150\n",
            "Epoch 39/50\n",
            "1533/1533 [==============================] - 1s 438us/sample - loss: 247.9764 - acc: 0.3294 - val_loss: 243.6977 - val_acc: 0.3276\n",
            "Epoch 40/50\n",
            "1533/1533 [==============================] - 1s 461us/sample - loss: 247.1373 - acc: 0.3312 - val_loss: 243.4150 - val_acc: 0.3179\n",
            "Epoch 41/50\n",
            "1533/1533 [==============================] - 1s 449us/sample - loss: 246.4582 - acc: 0.3311 - val_loss: 242.5108 - val_acc: 0.3284\n",
            "Epoch 42/50\n",
            "1533/1533 [==============================] - 1s 442us/sample - loss: 245.5481 - acc: 0.3323 - val_loss: 241.6752 - val_acc: 0.3316\n",
            "Epoch 43/50\n",
            "1533/1533 [==============================] - 1s 454us/sample - loss: 244.5709 - acc: 0.3348 - val_loss: 240.6344 - val_acc: 0.3346\n",
            "Epoch 44/50\n",
            "1533/1533 [==============================] - 1s 449us/sample - loss: 244.3901 - acc: 0.3359 - val_loss: 240.1746 - val_acc: 0.3353\n",
            "Epoch 45/50\n",
            "1533/1533 [==============================] - 1s 465us/sample - loss: 243.1028 - acc: 0.3383 - val_loss: 239.5655 - val_acc: 0.3391\n",
            "Epoch 46/50\n",
            "1533/1533 [==============================] - 1s 455us/sample - loss: 242.2259 - acc: 0.3389 - val_loss: 239.6394 - val_acc: 0.3449\n",
            "Epoch 47/50\n",
            "1533/1533 [==============================] - 1s 463us/sample - loss: 241.9967 - acc: 0.3398 - val_loss: 239.0687 - val_acc: 0.3312\n",
            "Epoch 48/50\n",
            "1533/1533 [==============================] - 1s 487us/sample - loss: 241.2602 - acc: 0.3405 - val_loss: 237.8729 - val_acc: 0.3419\n",
            "Epoch 49/50\n",
            "1533/1533 [==============================] - 1s 438us/sample - loss: 240.3500 - acc: 0.3444 - val_loss: 238.5976 - val_acc: 0.3367\n",
            "Epoch 50/50\n",
            "1533/1533 [==============================] - 1s 457us/sample - loss: 239.8718 - acc: 0.3443 - val_loss: 236.6801 - val_acc: 0.3399\n"
          ],
          "name": "stdout"
        }
      ]
    },
    {
      "cell_type": "code",
      "metadata": {
        "id": "pQviIjIN9UrD",
        "colab_type": "code",
        "outputId": "332e01e9-abd4-4637-cfc8-2072f245537a",
        "colab": {
          "base_uri": "https://localhost:8080/",
          "height": 337
        }
      },
      "source": [
        "# Mostra evolução de loss\n",
        "plt.subplot(2, 1, 1)\n",
        "plt.plot(history.history['loss'])\n",
        "plt.title('loss')\n",
        "plt.ylabel('loss')\n",
        "plt.xlabel('epoch')\n",
        "plt.legend(['loss'], loc='upper left')\n",
        "plt.show()\n",
        "\n",
        "plt.subplot(2, 1, 2)\n",
        "plt.plot(history.history['accuracy'])\n",
        "plt.title('accuracy')\n",
        "plt.ylabel('accuracy')\n",
        "plt.xlabel('epoch')\n",
        "plt.legend(['accuracy'], loc='upper left')\n",
        "plt.show()"
      ],
      "execution_count": 52,
      "outputs": [
        {
          "output_type": "display_data",
          "data": {
            "image/png": "[encoded data removed]",
            "text/plain": [
              "<Figure size 432x288 with 1 Axes>"
            ]
          },
          "metadata": {
            "tags": []
          }
        },
        {
          "output_type": "display_data",
          "data": {
            "image/png": "[encoded data removed]",
            "text/plain": [
              "<Figure size 432x288 with 1 Axes>"
            ]
          },
          "metadata": {
            "tags": []
          }
        }
      ]
    },
    {
      "cell_type": "code",
      "metadata": {
        "id": "8UAaO4oh9whR",
        "colab_type": "code",
        "outputId": "81357acc-143e-4e40-8cf4-382134569b62",
        "colab": {
          "base_uri": "https://localhost:8080/",
          "height": 689
        }
      },
      "source": [
        "ultimo_resultado = y_series[-1:]\n",
        "ultimo_resultado"
      ],
      "execution_count": 53,
      "outputs": [
        {
          "output_type": "execute_result",
          "data": {
            "text/plain": [
              "array([[[36, 38,  2, 29, 14, 18],\n",
              "        [49, 36, 29, 26, 59, 50],\n",
              "        [13, 28, 31,  8, 33, 32],\n",
              "        [53, 41, 47, 50,  7, 25],\n",
              "        [37, 44,  2, 27,  6, 47],\n",
              "        [49, 39, 23,  6, 26,  1],\n",
              "        [34, 48, 31, 39, 33, 35],\n",
              "        [ 9, 27, 46, 59, 35, 45],\n",
              "        [53, 35, 38, 14, 45, 26],\n",
              "        [53, 49,  1, 46, 47, 19],\n",
              "        [24, 10,  8, 44,  9, 42],\n",
              "        [11, 30, 42, 34, 16, 22],\n",
              "        [45, 20, 24, 36, 18,  8],\n",
              "        [48, 17, 58, 47, 16, 25],\n",
              "        [56, 49, 54, 43,  5, 37],\n",
              "        [44,  3, 34, 56, 19, 58],\n",
              "        [37, 45, 38, 43, 54, 27],\n",
              "        [37, 25, 29,  4,  1, 27],\n",
              "        [45,  7, 34, 59, 51, 54],\n",
              "        [36, 21, 51, 10, 24, 38],\n",
              "        [19, 12, 13, 36, 55, 44],\n",
              "        [ 9, 57, 43, 37, 28, 24],\n",
              "        [ 9, 48, 44, 42,  2, 50],\n",
              "        [36, 10, 34, 15, 60, 56],\n",
              "        [55, 53,  7, 32, 43, 25],\n",
              "        [23,  8, 25, 43, 39, 44],\n",
              "        [14,  9, 48, 11, 31, 51],\n",
              "        [16, 21, 42,  2, 50, 56],\n",
              "        [24,  2, 35, 54, 50, 13],\n",
              "        [16, 12, 10, 21, 28, 38],\n",
              "        [ 8,  1, 19, 48, 36, 33],\n",
              "        [59, 47, 46, 19, 39, 22],\n",
              "        [51, 13, 43, 30, 34, 26],\n",
              "        [51, 15, 52, 36, 59, 45],\n",
              "        [19, 42, 18, 47, 22,  9],\n",
              "        [27, 19, 12, 41, 18, 46],\n",
              "        [16, 21, 50, 10, 46, 11],\n",
              "        [60, 51, 21, 28,  2, 17],\n",
              "        [33, 29, 11,  4, 16, 22],\n",
              "        [53, 35, 25,  9,  5, 20]]])"
            ]
          },
          "metadata": {
            "tags": []
          },
          "execution_count": 53
        }
      ]
    },
    {
      "cell_type": "code",
      "metadata": {
        "id": "VS8_piNy-ImE",
        "colab_type": "code",
        "outputId": "73e160d5-b170-4a44-e94f-67f01cf77004",
        "colab": {
          "base_uri": "https://localhost:8080/",
          "height": 50
        }
      },
      "source": [
        "# Faz previsão da próxima dezena utilizando o ultimo resultado\n",
        "previsao = model.predict(ultimo_resultado)\n",
        "previsao[0,-1,:]"
      ],
      "execution_count": 54,
      "outputs": [
        {
          "output_type": "execute_result",
          "data": {
            "text/plain": [
              "array([28.008081, 35.22294 , 37.093975, 22.538761, 28.192427, 29.420715],\n",
              "      dtype=float32)"
            ]
          },
          "metadata": {
            "tags": []
          },
          "execution_count": 54
        }
      ]
    },
    {
      "cell_type": "markdown",
      "metadata": {
        "id": "_FtIyAas-4y6",
        "colab_type": "text"
      },
      "source": [
        "A componente de tempo foi adicionada a essa rede, mas o números continuam saindo quebrados. Vamos tentar alterar a saída para classes, onde cada dezenas possível é uma classe diferente. Vamos ver oque acontece."
      ]
    },
    {
      "cell_type": "markdown",
      "metadata": {
        "id": "KrJfZwNcd8rn",
        "colab_type": "text"
      },
      "source": [
        "# Multi-label\n",
        "\n",
        "Utiliza modelo multi-label para evitar o problema com numeros quebrados. Cada número possível de 1 a 60 é transformado em uma classe.\n",
        "Para uma rede multi-label é utilizado o activador sigmoid e a perda binary_crossentropy."
      ]
    },
    {
      "cell_type": "code",
      "metadata": {
        "id": "OPqvrRiUeBK0",
        "colab_type": "code",
        "outputId": "a5710c30-594a-4dbc-97bd-067b7c86ea58",
        "colab": {
          "base_uri": "https://localhost:8080/",
          "height": 289
        }
      },
      "source": [
        "model = tf.keras.Sequential([\n",
        "    keras.layers.SimpleRNN(N_NEURONIOS, return_sequences=True, input_shape=[None, N_DEZENAS], activation=\"relu\"),\n",
        "#    keras.layers.GRU(20, return_sequences=True),\n",
        "#    keras.layers.LSTM(20, return_sequences=True),\n",
        "    keras.layers.Dense(60,activation=\"sigmoid\")\n",
        "])\n",
        "model.compile(loss=\"binary_crossentropy\",optimizer=\"adam\",metrics=[\"accuracy\"])\n",
        "model.summary()"
      ],
      "execution_count": 55,
      "outputs": [
        {
          "output_type": "stream",
          "text": [
            "WARNING:tensorflow:From /usr/local/lib/python3.6/dist-packages/tensorflow/python/ops/nn_impl.py:180: add_dispatch_support.<locals>.wrapper (from tensorflow.python.ops.array_ops) is deprecated and will be removed in a future version.\n",
            "Instructions for updating:\n",
            "Use tf.where in 2.0, which has the same broadcast rule as np.where\n",
            "Model: \"sequential_7\"\n",
            "_________________________________________________________________\n",
            "Layer (type)                 Output Shape              Param #   \n",
            "=================================================================\n",
            "simple_rnn_1 (SimpleRNN)     (None, None, 50)          2850      \n",
            "_________________________________________________________________\n",
            "dense_19 (Dense)             (None, None, 60)          3060      \n",
            "=================================================================\n",
            "Total params: 5,910\n",
            "Trainable params: 5,910\n",
            "Non-trainable params: 0\n",
            "_________________________________________________________________\n"
          ],
          "name": "stdout"
        }
      ]
    },
    {
      "cell_type": "markdown",
      "metadata": {
        "id": "5WkJE7SagCZY",
        "colab_type": "text"
      },
      "source": [
        "## Transforma as dezenas em um array de classe\n"
      ]
    },
    {
      "cell_type": "code",
      "metadata": {
        "id": "1pS5n3k9gBVw",
        "colab_type": "code",
        "colab": {}
      },
      "source": [
        "NUM_DEZENAS = 60\n",
        "# \n",
        "input = [1, 2, 3, 4, 5, 60]\n",
        "\n",
        "# codifica dezenas para one-hot encoded\n",
        "def encode(C):\n",
        "  x = np.zeros(NUM_DEZENAS,dtype=int)\n",
        "  for val in C:\n",
        "    x[val-1] = 1\n",
        "  return(x)\n",
        "\n",
        "def encode_matrix(M):\n",
        "  O = np.empty([M.shape[0],M.shape[1],60],dtype=int)\n",
        "  for i in range(M.shape[0]):\n",
        "    for j in range(M.shape[1]):\n",
        "      O[i,j] = encode(M[i,j])\n",
        "  return(O)"
      ],
      "execution_count": 0,
      "outputs": []
    },
    {
      "cell_type": "code",
      "metadata": {
        "id": "208axhKmywx2",
        "colab_type": "code",
        "outputId": "3ac06e6f-01d2-4e31-d9b2-ab4c1b052f63",
        "colab": {
          "base_uri": "https://localhost:8080/",
          "height": 67
        }
      },
      "source": [
        "y_train_encoded = encode_matrix(y_train)\n",
        "y_valid_encoded = encode_matrix(y_valid)\n",
        "# Exemplo de como as dezenas são alteradas para classe. \n",
        "#Caso nas dezenas tenha o número 1 o primeiro elemento do array será 1. Se houver a dezena 10, o décimo elemento será 1.\n",
        "print(y_train[0,0])\n",
        "print(y_train_encoded[0,0])"
      ],
      "execution_count": 57,
      "outputs": [
        {
          "output_type": "stream",
          "text": [
            "[ 9 39 37 49 43 41]\n",
            "[0 0 0 0 0 0 0 0 1 0 0 0 0 0 0 0 0 0 0 0 0 0 0 0 0 0 0 0 0 0 0 0 0 0 0 0 1\n",
            " 0 1 0 1 0 1 0 0 0 0 0 1 0 0 0 0 0 0 0 0 0 0 0]\n"
          ],
          "name": "stdout"
        }
      ]
    },
    {
      "cell_type": "code",
      "metadata": {
        "id": "CjcHheKem1fa",
        "colab_type": "code",
        "outputId": "82618dce-32a4-4819-9078-bb2bb9707e16",
        "colab": {
          "base_uri": "https://localhost:8080/",
          "height": 1000
        }
      },
      "source": [
        "N_EPOCHS = 1000\n",
        "history = model.fit(X_train, y_train_encoded, epochs=N_EPOCHS, \n",
        "                   validation_data=(X_valid, y_valid_encoded))"
      ],
      "execution_count": 71,
      "outputs": [
        {
          "output_type": "stream",
          "text": [
            "Train on 1533 samples, validate on 617 samples\n",
            "Epoch 1/200\n",
            "1533/1533 [==============================] - 1s 505us/sample - loss: 0.2866 - acc: 0.9044 - val_loss: 0.2899 - val_acc: 0.9039\n",
            "Epoch 2/200\n",
            "1533/1533 [==============================] - 1s 488us/sample - loss: 0.2866 - acc: 0.9044 - val_loss: 0.2903 - val_acc: 0.9038\n",
            "Epoch 3/200\n",
            "1533/1533 [==============================] - 1s 497us/sample - loss: 0.2865 - acc: 0.9043 - val_loss: 0.2899 - val_acc: 0.9040\n",
            "Epoch 4/200\n",
            "1533/1533 [==============================] - 1s 482us/sample - loss: 0.2863 - acc: 0.9044 - val_loss: 0.2902 - val_acc: 0.9039\n",
            "Epoch 5/200\n",
            "1533/1533 [==============================] - 1s 513us/sample - loss: 0.2865 - acc: 0.9044 - val_loss: 0.2901 - val_acc: 0.9038\n",
            "Epoch 6/200\n",
            "1533/1533 [==============================] - 1s 500us/sample - loss: 0.2864 - acc: 0.9044 - val_loss: 0.2900 - val_acc: 0.9038\n",
            "Epoch 7/200\n",
            "1533/1533 [==============================] - 1s 494us/sample - loss: 0.2863 - acc: 0.9044 - val_loss: 0.2900 - val_acc: 0.9038\n",
            "Epoch 8/200\n",
            "1533/1533 [==============================] - 1s 457us/sample - loss: 0.2861 - acc: 0.9044 - val_loss: 0.2896 - val_acc: 0.9042\n",
            "Epoch 9/200\n",
            "1533/1533 [==============================] - 1s 474us/sample - loss: 0.2862 - acc: 0.9045 - val_loss: 0.2894 - val_acc: 0.9040\n",
            "Epoch 10/200\n",
            "1533/1533 [==============================] - 1s 464us/sample - loss: 0.2862 - acc: 0.9044 - val_loss: 0.2896 - val_acc: 0.9041\n",
            "Epoch 11/200\n",
            "1533/1533 [==============================] - 1s 459us/sample - loss: 0.2861 - acc: 0.9045 - val_loss: 0.2897 - val_acc: 0.9038\n",
            "Epoch 12/200\n",
            "1533/1533 [==============================] - 1s 480us/sample - loss: 0.2862 - acc: 0.9045 - val_loss: 0.2893 - val_acc: 0.9038\n",
            "Epoch 13/200\n",
            "1533/1533 [==============================] - 1s 479us/sample - loss: 0.2861 - acc: 0.9045 - val_loss: 0.2896 - val_acc: 0.9038\n",
            "Epoch 14/200\n",
            "1533/1533 [==============================] - 1s 473us/sample - loss: 0.2860 - acc: 0.9044 - val_loss: 0.2895 - val_acc: 0.9038\n",
            "Epoch 15/200\n",
            "1533/1533 [==============================] - 1s 467us/sample - loss: 0.2861 - acc: 0.9044 - val_loss: 0.2894 - val_acc: 0.9038\n",
            "Epoch 16/200\n",
            "1533/1533 [==============================] - 1s 483us/sample - loss: 0.2859 - acc: 0.9045 - val_loss: 0.2896 - val_acc: 0.9037\n",
            "Epoch 17/200\n",
            "1533/1533 [==============================] - 1s 481us/sample - loss: 0.2859 - acc: 0.9045 - val_loss: 0.2888 - val_acc: 0.9041\n",
            "Epoch 18/200\n",
            "1533/1533 [==============================] - 1s 485us/sample - loss: 0.2858 - acc: 0.9045 - val_loss: 0.2891 - val_acc: 0.9041\n",
            "Epoch 19/200\n",
            "1533/1533 [==============================] - 1s 484us/sample - loss: 0.2858 - acc: 0.9045 - val_loss: 0.2892 - val_acc: 0.9041\n",
            "Epoch 20/200\n",
            "1533/1533 [==============================] - 1s 476us/sample - loss: 0.2859 - acc: 0.9044 - val_loss: 0.2890 - val_acc: 0.9040\n",
            "Epoch 21/200\n",
            "1533/1533 [==============================] - 1s 479us/sample - loss: 0.2858 - acc: 0.9045 - val_loss: 0.2893 - val_acc: 0.9038\n",
            "Epoch 22/200\n",
            "1533/1533 [==============================] - 1s 469us/sample - loss: 0.2857 - acc: 0.9045 - val_loss: 0.2887 - val_acc: 0.9040\n",
            "Epoch 23/200\n",
            "1533/1533 [==============================] - 1s 465us/sample - loss: 0.2856 - acc: 0.9046 - val_loss: 0.2888 - val_acc: 0.9038\n",
            "Epoch 24/200\n",
            "1533/1533 [==============================] - 1s 484us/sample - loss: 0.2855 - acc: 0.9046 - val_loss: 0.2889 - val_acc: 0.9041\n",
            "Epoch 25/200\n",
            "1533/1533 [==============================] - 1s 475us/sample - loss: 0.2854 - acc: 0.9046 - val_loss: 0.2886 - val_acc: 0.9041\n",
            "Epoch 26/200\n",
            "1533/1533 [==============================] - 1s 478us/sample - loss: 0.2855 - acc: 0.9046 - val_loss: 0.2888 - val_acc: 0.9040\n",
            "Epoch 27/200\n",
            "1533/1533 [==============================] - 1s 476us/sample - loss: 0.2854 - acc: 0.9046 - val_loss: 0.2891 - val_acc: 0.9040\n",
            "Epoch 28/200\n",
            "1533/1533 [==============================] - 1s 473us/sample - loss: 0.2854 - acc: 0.9046 - val_loss: 0.2887 - val_acc: 0.9039\n",
            "Epoch 29/200\n",
            "1533/1533 [==============================] - 1s 472us/sample - loss: 0.2853 - acc: 0.9046 - val_loss: 0.2883 - val_acc: 0.9041\n",
            "Epoch 30/200\n",
            "1533/1533 [==============================] - 1s 480us/sample - loss: 0.2853 - acc: 0.9046 - val_loss: 0.2886 - val_acc: 0.9041\n",
            "Epoch 31/200\n",
            "1533/1533 [==============================] - 1s 463us/sample - loss: 0.2853 - acc: 0.9047 - val_loss: 0.2885 - val_acc: 0.9043\n",
            "Epoch 32/200\n",
            "1533/1533 [==============================] - 1s 485us/sample - loss: 0.2853 - acc: 0.9047 - val_loss: 0.2885 - val_acc: 0.9042\n",
            "Epoch 33/200\n",
            "1533/1533 [==============================] - 1s 487us/sample - loss: 0.2851 - acc: 0.9047 - val_loss: 0.2886 - val_acc: 0.9039\n",
            "Epoch 34/200\n",
            "1533/1533 [==============================] - 1s 488us/sample - loss: 0.2852 - acc: 0.9047 - val_loss: 0.2883 - val_acc: 0.9044\n",
            "Epoch 35/200\n",
            "1533/1533 [==============================] - 1s 468us/sample - loss: 0.2850 - acc: 0.9047 - val_loss: 0.2883 - val_acc: 0.9043\n",
            "Epoch 36/200\n",
            "1533/1533 [==============================] - 1s 471us/sample - loss: 0.2850 - acc: 0.9048 - val_loss: 0.2885 - val_acc: 0.9041\n",
            "Epoch 37/200\n",
            "1533/1533 [==============================] - 1s 474us/sample - loss: 0.2849 - acc: 0.9047 - val_loss: 0.2882 - val_acc: 0.9039\n",
            "Epoch 38/200\n",
            "1533/1533 [==============================] - 1s 472us/sample - loss: 0.2851 - acc: 0.9048 - val_loss: 0.2882 - val_acc: 0.9042\n",
            "Epoch 39/200\n",
            "1533/1533 [==============================] - 1s 473us/sample - loss: 0.2850 - acc: 0.9048 - val_loss: 0.2880 - val_acc: 0.9043\n",
            "Epoch 40/200\n",
            "1533/1533 [==============================] - 1s 484us/sample - loss: 0.2849 - acc: 0.9048 - val_loss: 0.2885 - val_acc: 0.9041\n",
            "Epoch 41/200\n",
            "1533/1533 [==============================] - 1s 471us/sample - loss: 0.2849 - acc: 0.9048 - val_loss: 0.2885 - val_acc: 0.9042\n",
            "Epoch 42/200\n",
            "1533/1533 [==============================] - 1s 472us/sample - loss: 0.2849 - acc: 0.9048 - val_loss: 0.2883 - val_acc: 0.9044\n",
            "Epoch 43/200\n",
            "1533/1533 [==============================] - 1s 492us/sample - loss: 0.2848 - acc: 0.9048 - val_loss: 0.2880 - val_acc: 0.9043\n",
            "Epoch 44/200\n",
            "1533/1533 [==============================] - 1s 468us/sample - loss: 0.2848 - acc: 0.9049 - val_loss: 0.2881 - val_acc: 0.9043\n",
            "Epoch 45/200\n",
            "1533/1533 [==============================] - 1s 480us/sample - loss: 0.2847 - acc: 0.9048 - val_loss: 0.2879 - val_acc: 0.9043\n",
            "Epoch 46/200\n",
            "1533/1533 [==============================] - 1s 477us/sample - loss: 0.2848 - acc: 0.9048 - val_loss: 0.2879 - val_acc: 0.9046\n",
            "Epoch 47/200\n",
            "1533/1533 [==============================] - 1s 475us/sample - loss: 0.2848 - acc: 0.9048 - val_loss: 0.2878 - val_acc: 0.9043\n",
            "Epoch 48/200\n",
            "1533/1533 [==============================] - 1s 493us/sample - loss: 0.2848 - acc: 0.9049 - val_loss: 0.2878 - val_acc: 0.9042\n",
            "Epoch 49/200\n",
            "1533/1533 [==============================] - 1s 479us/sample - loss: 0.2846 - acc: 0.9049 - val_loss: 0.2878 - val_acc: 0.9042\n",
            "Epoch 50/200\n",
            "1533/1533 [==============================] - 1s 464us/sample - loss: 0.2846 - acc: 0.9048 - val_loss: 0.2874 - val_acc: 0.9046\n",
            "Epoch 51/200\n",
            "1533/1533 [==============================] - 1s 468us/sample - loss: 0.2845 - acc: 0.9049 - val_loss: 0.2881 - val_acc: 0.9042\n",
            "Epoch 52/200\n",
            "1533/1533 [==============================] - 1s 482us/sample - loss: 0.2845 - acc: 0.9049 - val_loss: 0.2876 - val_acc: 0.9045\n",
            "Epoch 53/200\n",
            "1533/1533 [==============================] - 1s 483us/sample - loss: 0.2845 - acc: 0.9049 - val_loss: 0.2882 - val_acc: 0.9043\n",
            "Epoch 54/200\n",
            "1533/1533 [==============================] - 1s 466us/sample - loss: 0.2846 - acc: 0.9050 - val_loss: 0.2879 - val_acc: 0.9044\n",
            "Epoch 55/200\n",
            "1533/1533 [==============================] - 1s 490us/sample - loss: 0.2844 - acc: 0.9049 - val_loss: 0.2877 - val_acc: 0.9044\n",
            "Epoch 56/200\n",
            "1533/1533 [==============================] - 1s 490us/sample - loss: 0.2844 - acc: 0.9049 - val_loss: 0.2879 - val_acc: 0.9043\n",
            "Epoch 57/200\n",
            "1533/1533 [==============================] - 1s 487us/sample - loss: 0.2847 - acc: 0.9048 - val_loss: 0.2878 - val_acc: 0.9043\n",
            "Epoch 58/200\n",
            "1533/1533 [==============================] - 1s 470us/sample - loss: 0.2844 - acc: 0.9049 - val_loss: 0.2877 - val_acc: 0.9043\n",
            "Epoch 59/200\n",
            "1533/1533 [==============================] - 1s 474us/sample - loss: 0.2844 - acc: 0.9049 - val_loss: 0.2875 - val_acc: 0.9046\n",
            "Epoch 60/200\n",
            "1533/1533 [==============================] - 1s 477us/sample - loss: 0.2843 - acc: 0.9050 - val_loss: 0.2879 - val_acc: 0.9043\n",
            "Epoch 61/200\n",
            "1533/1533 [==============================] - 1s 458us/sample - loss: 0.2844 - acc: 0.9050 - val_loss: 0.2878 - val_acc: 0.9044\n",
            "Epoch 62/200\n",
            "1533/1533 [==============================] - 1s 489us/sample - loss: 0.2842 - acc: 0.9050 - val_loss: 0.2879 - val_acc: 0.9045\n",
            "Epoch 63/200\n",
            "1533/1533 [==============================] - 1s 493us/sample - loss: 0.2842 - acc: 0.9050 - val_loss: 0.2880 - val_acc: 0.9043\n",
            "Epoch 64/200\n",
            "1533/1533 [==============================] - 1s 478us/sample - loss: 0.2845 - acc: 0.9049 - val_loss: 0.2885 - val_acc: 0.9044\n",
            "Epoch 65/200\n",
            "1533/1533 [==============================] - 1s 478us/sample - loss: 0.2845 - acc: 0.9050 - val_loss: 0.2873 - val_acc: 0.9045\n",
            "Epoch 66/200\n",
            "1533/1533 [==============================] - 1s 465us/sample - loss: 0.2843 - acc: 0.9050 - val_loss: 0.2873 - val_acc: 0.9045\n",
            "Epoch 67/200\n",
            "1533/1533 [==============================] - 1s 480us/sample - loss: 0.2840 - acc: 0.9051 - val_loss: 0.2875 - val_acc: 0.9045\n",
            "Epoch 68/200\n",
            "1533/1533 [==============================] - 1s 491us/sample - loss: 0.2839 - acc: 0.9051 - val_loss: 0.2873 - val_acc: 0.9046\n",
            "Epoch 69/200\n",
            "1533/1533 [==============================] - 1s 469us/sample - loss: 0.2840 - acc: 0.9051 - val_loss: 0.2871 - val_acc: 0.9046\n",
            "Epoch 70/200\n",
            "1533/1533 [==============================] - 1s 496us/sample - loss: 0.2840 - acc: 0.9051 - val_loss: 0.2871 - val_acc: 0.9045\n",
            "Epoch 71/200\n",
            "1533/1533 [==============================] - 1s 481us/sample - loss: 0.2841 - acc: 0.9050 - val_loss: 0.2871 - val_acc: 0.9049\n",
            "Epoch 72/200\n",
            "1533/1533 [==============================] - 1s 488us/sample - loss: 0.2842 - acc: 0.9051 - val_loss: 0.2874 - val_acc: 0.9045\n",
            "Epoch 73/200\n",
            "1533/1533 [==============================] - 1s 486us/sample - loss: 0.2840 - acc: 0.9051 - val_loss: 0.2872 - val_acc: 0.9047\n",
            "Epoch 74/200\n",
            "1533/1533 [==============================] - 1s 495us/sample - loss: 0.2838 - acc: 0.9052 - val_loss: 0.2870 - val_acc: 0.9048\n",
            "Epoch 75/200\n",
            "1533/1533 [==============================] - 1s 484us/sample - loss: 0.2838 - acc: 0.9052 - val_loss: 0.2871 - val_acc: 0.9048\n",
            "Epoch 76/200\n",
            "1533/1533 [==============================] - 1s 493us/sample - loss: 0.2841 - acc: 0.9051 - val_loss: 0.2869 - val_acc: 0.9047\n",
            "Epoch 77/200\n",
            "1533/1533 [==============================] - 1s 485us/sample - loss: 0.2839 - acc: 0.9051 - val_loss: 0.2870 - val_acc: 0.9046\n",
            "Epoch 78/200\n",
            "1533/1533 [==============================] - 1s 475us/sample - loss: 0.2838 - acc: 0.9051 - val_loss: 0.2870 - val_acc: 0.9046\n",
            "Epoch 79/200\n",
            "1533/1533 [==============================] - 1s 472us/sample - loss: 0.2837 - acc: 0.9052 - val_loss: 0.2867 - val_acc: 0.9047\n",
            "Epoch 80/200\n",
            "1533/1533 [==============================] - 1s 485us/sample - loss: 0.2837 - acc: 0.9052 - val_loss: 0.2874 - val_acc: 0.9048\n",
            "Epoch 81/200\n",
            "1533/1533 [==============================] - 1s 481us/sample - loss: 0.2838 - acc: 0.9052 - val_loss: 0.2869 - val_acc: 0.9047\n",
            "Epoch 82/200\n",
            "1533/1533 [==============================] - 1s 472us/sample - loss: 0.2837 - acc: 0.9052 - val_loss: 0.2871 - val_acc: 0.9048\n",
            "Epoch 83/200\n",
            "1533/1533 [==============================] - 1s 474us/sample - loss: 0.2837 - acc: 0.9052 - val_loss: 0.2869 - val_acc: 0.9048\n",
            "Epoch 84/200\n",
            "1533/1533 [==============================] - 1s 482us/sample - loss: 0.2836 - acc: 0.9052 - val_loss: 0.2866 - val_acc: 0.9047\n",
            "Epoch 85/200\n",
            "1533/1533 [==============================] - 1s 490us/sample - loss: 0.2835 - acc: 0.9052 - val_loss: 0.2867 - val_acc: 0.9049\n",
            "Epoch 86/200\n",
            "1533/1533 [==============================] - 1s 478us/sample - loss: 0.2846 - acc: 0.9051 - val_loss: 0.2868 - val_acc: 0.9048\n",
            "Epoch 87/200\n",
            "1533/1533 [==============================] - 1s 476us/sample - loss: 0.2837 - acc: 0.9052 - val_loss: 0.2865 - val_acc: 0.9047\n",
            "Epoch 88/200\n",
            "1533/1533 [==============================] - 1s 474us/sample - loss: 0.2838 - acc: 0.9051 - val_loss: 0.2871 - val_acc: 0.9046\n",
            "Epoch 89/200\n",
            "1533/1533 [==============================] - 1s 476us/sample - loss: 0.2836 - acc: 0.9053 - val_loss: 0.2866 - val_acc: 0.9047\n",
            "Epoch 90/200\n",
            "1533/1533 [==============================] - 1s 465us/sample - loss: 0.2836 - acc: 0.9053 - val_loss: 0.2866 - val_acc: 0.9048\n",
            "Epoch 91/200\n",
            "1533/1533 [==============================] - 1s 498us/sample - loss: 0.2836 - acc: 0.9052 - val_loss: 0.2865 - val_acc: 0.9048\n",
            "Epoch 92/200\n",
            "1533/1533 [==============================] - 1s 487us/sample - loss: 0.2836 - acc: 0.9052 - val_loss: 0.2868 - val_acc: 0.9048\n",
            "Epoch 93/200\n",
            "1533/1533 [==============================] - 1s 480us/sample - loss: 0.2837 - acc: 0.9052 - val_loss: 0.2865 - val_acc: 0.9049\n",
            "Epoch 94/200\n",
            "1533/1533 [==============================] - 1s 474us/sample - loss: 0.2834 - acc: 0.9053 - val_loss: 0.2863 - val_acc: 0.9049\n",
            "Epoch 95/200\n",
            "1533/1533 [==============================] - 1s 476us/sample - loss: 0.2834 - acc: 0.9053 - val_loss: 0.2868 - val_acc: 0.9048\n",
            "Epoch 96/200\n",
            "1533/1533 [==============================] - 1s 477us/sample - loss: 0.2834 - acc: 0.9052 - val_loss: 0.2863 - val_acc: 0.9049\n",
            "Epoch 97/200\n",
            "1533/1533 [==============================] - 1s 483us/sample - loss: 0.2832 - acc: 0.9053 - val_loss: 0.2865 - val_acc: 0.9049\n",
            "Epoch 98/200\n",
            "1533/1533 [==============================] - 1s 476us/sample - loss: 0.2834 - acc: 0.9053 - val_loss: 0.2866 - val_acc: 0.9048\n",
            "Epoch 99/200\n",
            "1533/1533 [==============================] - 1s 482us/sample - loss: 0.2833 - acc: 0.9053 - val_loss: 0.2868 - val_acc: 0.9046\n",
            "Epoch 100/200\n",
            "1533/1533 [==============================] - 1s 496us/sample - loss: 0.2834 - acc: 0.9053 - val_loss: 0.2865 - val_acc: 0.9050\n",
            "Epoch 101/200\n",
            "1533/1533 [==============================] - 1s 480us/sample - loss: 0.2833 - acc: 0.9053 - val_loss: 0.2862 - val_acc: 0.9048\n",
            "Epoch 102/200\n",
            "1533/1533 [==============================] - 1s 481us/sample - loss: 0.2833 - acc: 0.9053 - val_loss: 0.2866 - val_acc: 0.9048\n",
            "Epoch 103/200\n",
            "1533/1533 [==============================] - 1s 502us/sample - loss: 0.2833 - acc: 0.9053 - val_loss: 0.2869 - val_acc: 0.9048\n",
            "Epoch 104/200\n",
            "1533/1533 [==============================] - 1s 480us/sample - loss: 0.2835 - acc: 0.9052 - val_loss: 0.2865 - val_acc: 0.9050\n",
            "Epoch 105/200\n",
            "1533/1533 [==============================] - 1s 491us/sample - loss: 0.2833 - acc: 0.9053 - val_loss: 0.2864 - val_acc: 0.9049\n",
            "Epoch 106/200\n",
            "1533/1533 [==============================] - 1s 469us/sample - loss: 0.2833 - acc: 0.9053 - val_loss: 0.2861 - val_acc: 0.9048\n",
            "Epoch 107/200\n",
            "1533/1533 [==============================] - 1s 474us/sample - loss: 0.2832 - acc: 0.9053 - val_loss: 0.2862 - val_acc: 0.9050\n",
            "Epoch 108/200\n",
            "1533/1533 [==============================] - 1s 482us/sample - loss: 0.2833 - acc: 0.9053 - val_loss: 0.2862 - val_acc: 0.9048\n",
            "Epoch 109/200\n",
            "1533/1533 [==============================] - 1s 475us/sample - loss: 0.2831 - acc: 0.9053 - val_loss: 0.2863 - val_acc: 0.9048\n",
            "Epoch 110/200\n",
            "1533/1533 [==============================] - 1s 470us/sample - loss: 0.2831 - acc: 0.9053 - val_loss: 0.2864 - val_acc: 0.9048\n",
            "Epoch 111/200\n",
            "1533/1533 [==============================] - 1s 489us/sample - loss: 0.2832 - acc: 0.9053 - val_loss: 0.2867 - val_acc: 0.9048\n",
            "Epoch 112/200\n",
            "1533/1533 [==============================] - 1s 460us/sample - loss: 0.2832 - acc: 0.9052 - val_loss: 0.2867 - val_acc: 0.9048\n",
            "Epoch 113/200\n",
            "1533/1533 [==============================] - 1s 470us/sample - loss: 0.2836 - acc: 0.9052 - val_loss: 0.2870 - val_acc: 0.9046\n",
            "Epoch 114/200\n",
            "1533/1533 [==============================] - 1s 476us/sample - loss: 0.2833 - acc: 0.9052 - val_loss: 0.2861 - val_acc: 0.9048\n",
            "Epoch 115/200\n",
            "1533/1533 [==============================] - 1s 473us/sample - loss: 0.2830 - acc: 0.9053 - val_loss: 0.2862 - val_acc: 0.9048\n",
            "Epoch 116/200\n",
            "1533/1533 [==============================] - 1s 484us/sample - loss: 0.2830 - acc: 0.9053 - val_loss: 0.2863 - val_acc: 0.9048\n",
            "Epoch 117/200\n",
            "1533/1533 [==============================] - 1s 478us/sample - loss: 0.2830 - acc: 0.9053 - val_loss: 0.2860 - val_acc: 0.9049\n",
            "Epoch 118/200\n",
            "1533/1533 [==============================] - 1s 491us/sample - loss: 0.2829 - acc: 0.9053 - val_loss: 0.2859 - val_acc: 0.9048\n",
            "Epoch 119/200\n",
            "1533/1533 [==============================] - 1s 469us/sample - loss: 0.2830 - acc: 0.9053 - val_loss: 0.2859 - val_acc: 0.9049\n",
            "Epoch 120/200\n",
            "1533/1533 [==============================] - 1s 481us/sample - loss: 0.2830 - acc: 0.9053 - val_loss: 0.2859 - val_acc: 0.9048\n",
            "Epoch 121/200\n",
            "1533/1533 [==============================] - 1s 484us/sample - loss: 0.2830 - acc: 0.9053 - val_loss: 0.2863 - val_acc: 0.9047\n",
            "Epoch 122/200\n",
            "1533/1533 [==============================] - 1s 490us/sample - loss: 0.2831 - acc: 0.9053 - val_loss: 0.2861 - val_acc: 0.9051\n",
            "Epoch 123/200\n",
            "1533/1533 [==============================] - 1s 468us/sample - loss: 0.2829 - acc: 0.9053 - val_loss: 0.2858 - val_acc: 0.9050\n",
            "Epoch 124/200\n",
            "1533/1533 [==============================] - 1s 468us/sample - loss: 0.2828 - acc: 0.9054 - val_loss: 0.2860 - val_acc: 0.9050\n",
            "Epoch 125/200\n",
            "1533/1533 [==============================] - 1s 483us/sample - loss: 0.2828 - acc: 0.9054 - val_loss: 0.2859 - val_acc: 0.9051\n",
            "Epoch 126/200\n",
            "1533/1533 [==============================] - 1s 479us/sample - loss: 0.2829 - acc: 0.9054 - val_loss: 0.2861 - val_acc: 0.9050\n",
            "Epoch 127/200\n",
            "1533/1533 [==============================] - 1s 476us/sample - loss: 0.2827 - acc: 0.9053 - val_loss: 0.2860 - val_acc: 0.9049\n",
            "Epoch 128/200\n",
            "1533/1533 [==============================] - 1s 480us/sample - loss: 0.2828 - acc: 0.9053 - val_loss: 0.2861 - val_acc: 0.9048\n",
            "Epoch 129/200\n",
            "1533/1533 [==============================] - 1s 477us/sample - loss: 0.2828 - acc: 0.9054 - val_loss: 0.2857 - val_acc: 0.9049\n",
            "Epoch 130/200\n",
            "1533/1533 [==============================] - 1s 463us/sample - loss: 0.2827 - acc: 0.9054 - val_loss: 0.2859 - val_acc: 0.9050\n",
            "Epoch 131/200\n",
            "1533/1533 [==============================] - 1s 483us/sample - loss: 0.2836 - acc: 0.9051 - val_loss: 0.2860 - val_acc: 0.9048\n",
            "Epoch 132/200\n",
            "1533/1533 [==============================] - 1s 466us/sample - loss: 0.2828 - acc: 0.9053 - val_loss: 0.2860 - val_acc: 0.9050\n",
            "Epoch 133/200\n",
            "1533/1533 [==============================] - 1s 484us/sample - loss: 0.2828 - acc: 0.9053 - val_loss: 0.2859 - val_acc: 0.9047\n",
            "Epoch 134/200\n",
            "1533/1533 [==============================] - 1s 487us/sample - loss: 0.2829 - acc: 0.9054 - val_loss: 0.2858 - val_acc: 0.9049\n",
            "Epoch 135/200\n",
            "1533/1533 [==============================] - 1s 482us/sample - loss: 0.2828 - acc: 0.9055 - val_loss: 0.2857 - val_acc: 0.9048\n",
            "Epoch 136/200\n",
            "1533/1533 [==============================] - 1s 488us/sample - loss: 0.2829 - acc: 0.9053 - val_loss: 0.2859 - val_acc: 0.9051\n",
            "Epoch 137/200\n",
            "1533/1533 [==============================] - 1s 469us/sample - loss: 0.2828 - acc: 0.9054 - val_loss: 0.2858 - val_acc: 0.9049\n",
            "Epoch 138/200\n",
            "1533/1533 [==============================] - 1s 486us/sample - loss: 0.2826 - acc: 0.9054 - val_loss: 0.2856 - val_acc: 0.9051\n",
            "Epoch 139/200\n",
            "1533/1533 [==============================] - 1s 480us/sample - loss: 0.2825 - acc: 0.9054 - val_loss: 0.2856 - val_acc: 0.9049\n",
            "Epoch 140/200\n",
            "1533/1533 [==============================] - 1s 475us/sample - loss: 0.2827 - acc: 0.9054 - val_loss: 0.2860 - val_acc: 0.9052\n",
            "Epoch 141/200\n",
            "1533/1533 [==============================] - 1s 468us/sample - loss: 0.2826 - acc: 0.9054 - val_loss: 0.2858 - val_acc: 0.9051\n",
            "Epoch 142/200\n",
            "1533/1533 [==============================] - 1s 486us/sample - loss: 0.2825 - acc: 0.9054 - val_loss: 0.2857 - val_acc: 0.9050\n",
            "Epoch 143/200\n",
            "1533/1533 [==============================] - 1s 467us/sample - loss: 0.2826 - acc: 0.9054 - val_loss: 0.2861 - val_acc: 0.9049\n",
            "Epoch 144/200\n",
            "1533/1533 [==============================] - 1s 479us/sample - loss: 0.2825 - acc: 0.9054 - val_loss: 0.2856 - val_acc: 0.9051\n",
            "Epoch 145/200\n",
            "1533/1533 [==============================] - 1s 469us/sample - loss: 0.2825 - acc: 0.9054 - val_loss: 0.2862 - val_acc: 0.9048\n",
            "Epoch 146/200\n",
            "1533/1533 [==============================] - 1s 478us/sample - loss: 0.2826 - acc: 0.9054 - val_loss: 0.2856 - val_acc: 0.9050\n",
            "Epoch 147/200\n",
            "1533/1533 [==============================] - 1s 474us/sample - loss: 0.2825 - acc: 0.9054 - val_loss: 0.2856 - val_acc: 0.9050\n",
            "Epoch 148/200\n",
            "1533/1533 [==============================] - 1s 484us/sample - loss: 0.2824 - acc: 0.9055 - val_loss: 0.2860 - val_acc: 0.9051\n",
            "Epoch 149/200\n",
            "1533/1533 [==============================] - 1s 484us/sample - loss: 0.2825 - acc: 0.9054 - val_loss: 0.2859 - val_acc: 0.9050\n",
            "Epoch 150/200\n",
            "1533/1533 [==============================] - 1s 475us/sample - loss: 0.2825 - acc: 0.9054 - val_loss: 0.2856 - val_acc: 0.9049\n",
            "Epoch 151/200\n",
            "1533/1533 [==============================] - 1s 464us/sample - loss: 0.2835 - acc: 0.9052 - val_loss: 0.2861 - val_acc: 0.9048\n",
            "Epoch 152/200\n",
            "1533/1533 [==============================] - 1s 472us/sample - loss: 0.2826 - acc: 0.9054 - val_loss: 0.2854 - val_acc: 0.9051\n",
            "Epoch 153/200\n",
            "1533/1533 [==============================] - 1s 463us/sample - loss: 0.2823 - acc: 0.9054 - val_loss: 0.2853 - val_acc: 0.9050\n",
            "Epoch 154/200\n",
            "1533/1533 [==============================] - 1s 465us/sample - loss: 0.2822 - acc: 0.9054 - val_loss: 0.2852 - val_acc: 0.9052\n",
            "Epoch 155/200\n",
            "1533/1533 [==============================] - 1s 478us/sample - loss: 0.2822 - acc: 0.9055 - val_loss: 0.2851 - val_acc: 0.9052\n",
            "Epoch 156/200\n",
            "1533/1533 [==============================] - 1s 464us/sample - loss: 0.2823 - acc: 0.9055 - val_loss: 0.2856 - val_acc: 0.9049\n",
            "Epoch 157/200\n",
            "1533/1533 [==============================] - 1s 461us/sample - loss: 0.2822 - acc: 0.9055 - val_loss: 0.2854 - val_acc: 0.9051\n",
            "Epoch 158/200\n",
            "1533/1533 [==============================] - 1s 488us/sample - loss: 0.2823 - acc: 0.9054 - val_loss: 0.2858 - val_acc: 0.9051\n",
            "Epoch 159/200\n",
            "1533/1533 [==============================] - 1s 470us/sample - loss: 0.2822 - acc: 0.9055 - val_loss: 0.2856 - val_acc: 0.9050\n",
            "Epoch 160/200\n",
            "1533/1533 [==============================] - 1s 473us/sample - loss: 0.2824 - acc: 0.9055 - val_loss: 0.2854 - val_acc: 0.9049\n",
            "Epoch 161/200\n",
            "1533/1533 [==============================] - 1s 464us/sample - loss: 0.2821 - acc: 0.9055 - val_loss: 0.2856 - val_acc: 0.9049\n",
            "Epoch 162/200\n",
            "1533/1533 [==============================] - 1s 492us/sample - loss: 0.2821 - acc: 0.9056 - val_loss: 0.2852 - val_acc: 0.9052\n",
            "Epoch 163/200\n",
            "1533/1533 [==============================] - 1s 487us/sample - loss: 0.2820 - acc: 0.9056 - val_loss: 0.2851 - val_acc: 0.9052\n",
            "Epoch 164/200\n",
            "1533/1533 [==============================] - 1s 489us/sample - loss: 0.2826 - acc: 0.9054 - val_loss: 0.2851 - val_acc: 0.9050\n",
            "Epoch 165/200\n",
            "1533/1533 [==============================] - 1s 488us/sample - loss: 0.2821 - acc: 0.9055 - val_loss: 0.2854 - val_acc: 0.9050\n",
            "Epoch 166/200\n",
            "1533/1533 [==============================] - 1s 474us/sample - loss: 0.2820 - acc: 0.9055 - val_loss: 0.2852 - val_acc: 0.9052\n",
            "Epoch 167/200\n",
            "1533/1533 [==============================] - 1s 477us/sample - loss: 0.2821 - acc: 0.9055 - val_loss: 0.2854 - val_acc: 0.9052\n",
            "Epoch 168/200\n",
            "1533/1533 [==============================] - 1s 482us/sample - loss: 0.2822 - acc: 0.9055 - val_loss: 0.2854 - val_acc: 0.9050\n",
            "Epoch 169/200\n",
            "1533/1533 [==============================] - 1s 467us/sample - loss: 0.2822 - acc: 0.9055 - val_loss: 0.2851 - val_acc: 0.9052\n",
            "Epoch 170/200\n",
            "1533/1533 [==============================] - 1s 469us/sample - loss: 0.2820 - acc: 0.9056 - val_loss: 0.2853 - val_acc: 0.9051\n",
            "Epoch 171/200\n",
            "1533/1533 [==============================] - 1s 485us/sample - loss: 0.2821 - acc: 0.9056 - val_loss: 0.2855 - val_acc: 0.9050\n",
            "Epoch 172/200\n",
            "1533/1533 [==============================] - 1s 455us/sample - loss: 0.2820 - acc: 0.9056 - val_loss: 0.2855 - val_acc: 0.9051\n",
            "Epoch 173/200\n",
            "1533/1533 [==============================] - 1s 483us/sample - loss: 0.2821 - acc: 0.9056 - val_loss: 0.2850 - val_acc: 0.9052\n",
            "Epoch 174/200\n",
            "1533/1533 [==============================] - 1s 483us/sample - loss: 0.2819 - acc: 0.9056 - val_loss: 0.2859 - val_acc: 0.9047\n",
            "Epoch 175/200\n",
            "1533/1533 [==============================] - 1s 470us/sample - loss: 0.2824 - acc: 0.9054 - val_loss: 0.2859 - val_acc: 0.9050\n",
            "Epoch 176/200\n",
            "1533/1533 [==============================] - 1s 476us/sample - loss: 0.2825 - acc: 0.9054 - val_loss: 0.2862 - val_acc: 0.9050\n",
            "Epoch 177/200\n",
            "1533/1533 [==============================] - 1s 476us/sample - loss: 0.2820 - acc: 0.9056 - val_loss: 0.2852 - val_acc: 0.9053\n",
            "Epoch 178/200\n",
            "1533/1533 [==============================] - 1s 473us/sample - loss: 0.2820 - acc: 0.9056 - val_loss: 0.2854 - val_acc: 0.9052\n",
            "Epoch 179/200\n",
            "1533/1533 [==============================] - 1s 475us/sample - loss: 0.2819 - acc: 0.9055 - val_loss: 0.2849 - val_acc: 0.9055\n",
            "Epoch 180/200\n",
            "1533/1533 [==============================] - 1s 476us/sample - loss: 0.2819 - acc: 0.9056 - val_loss: 0.2851 - val_acc: 0.9053\n",
            "Epoch 181/200\n",
            "1533/1533 [==============================] - 1s 481us/sample - loss: 0.2818 - acc: 0.9057 - val_loss: 0.2854 - val_acc: 0.9050\n",
            "Epoch 182/200\n",
            "1533/1533 [==============================] - 1s 483us/sample - loss: 0.2819 - acc: 0.9056 - val_loss: 0.2853 - val_acc: 0.9052\n",
            "Epoch 183/200\n",
            "1533/1533 [==============================] - 1s 474us/sample - loss: 0.2818 - acc: 0.9057 - val_loss: 0.2854 - val_acc: 0.9052\n",
            "Epoch 184/200\n",
            "1533/1533 [==============================] - 1s 469us/sample - loss: 0.2818 - acc: 0.9056 - val_loss: 0.2850 - val_acc: 0.9055\n",
            "Epoch 185/200\n",
            "1533/1533 [==============================] - 1s 464us/sample - loss: 0.2819 - acc: 0.9056 - val_loss: 0.2857 - val_acc: 0.9050\n",
            "Epoch 186/200\n",
            "1533/1533 [==============================] - 1s 466us/sample - loss: 0.2819 - acc: 0.9056 - val_loss: 0.2851 - val_acc: 0.9052\n",
            "Epoch 187/200\n",
            "1533/1533 [==============================] - 1s 463us/sample - loss: 0.2818 - acc: 0.9056 - val_loss: 0.2850 - val_acc: 0.9055\n",
            "Epoch 188/200\n",
            "1533/1533 [==============================] - 1s 462us/sample - loss: 0.2819 - acc: 0.9057 - val_loss: 0.2852 - val_acc: 0.9054\n",
            "Epoch 189/200\n",
            "1533/1533 [==============================] - 1s 473us/sample - loss: 0.2816 - acc: 0.9057 - val_loss: 0.2848 - val_acc: 0.9054\n",
            "Epoch 190/200\n",
            "1533/1533 [==============================] - 1s 500us/sample - loss: 0.2821 - acc: 0.9056 - val_loss: 0.2862 - val_acc: 0.9052\n",
            "Epoch 191/200\n",
            "1533/1533 [==============================] - 1s 478us/sample - loss: 0.2820 - acc: 0.9056 - val_loss: 0.2849 - val_acc: 0.9053\n",
            "Epoch 192/200\n",
            "1533/1533 [==============================] - 1s 484us/sample - loss: 0.2817 - acc: 0.9057 - val_loss: 0.2848 - val_acc: 0.9053\n",
            "Epoch 193/200\n",
            "1533/1533 [==============================] - 1s 464us/sample - loss: 0.2818 - acc: 0.9056 - val_loss: 0.2848 - val_acc: 0.9054\n",
            "Epoch 194/200\n",
            "1533/1533 [==============================] - 1s 491us/sample - loss: 0.2816 - acc: 0.9057 - val_loss: 0.2847 - val_acc: 0.9056\n",
            "Epoch 195/200\n",
            "1533/1533 [==============================] - 1s 483us/sample - loss: 0.2816 - acc: 0.9057 - val_loss: 0.2847 - val_acc: 0.9053\n",
            "Epoch 196/200\n",
            "1533/1533 [==============================] - 1s 479us/sample - loss: 0.2816 - acc: 0.9057 - val_loss: 0.2851 - val_acc: 0.9052\n",
            "Epoch 197/200\n",
            "1533/1533 [==============================] - 1s 484us/sample - loss: 0.2817 - acc: 0.9057 - val_loss: 0.2849 - val_acc: 0.9055\n",
            "Epoch 198/200\n",
            "1533/1533 [==============================] - 1s 476us/sample - loss: 0.2816 - acc: 0.9057 - val_loss: 0.2848 - val_acc: 0.9053\n",
            "Epoch 199/200\n",
            "1533/1533 [==============================] - 1s 484us/sample - loss: 0.2816 - acc: 0.9057 - val_loss: 0.2853 - val_acc: 0.9054\n",
            "Epoch 200/200\n",
            "1533/1533 [==============================] - 1s 478us/sample - loss: 0.2816 - acc: 0.9057 - val_loss: 0.2849 - val_acc: 0.9053\n"
          ],
          "name": "stdout"
        }
      ]
    },
    {
      "cell_type": "code",
      "metadata": {
        "id": "1ufiyT7tY1PO",
        "colab_type": "code",
        "colab": {
          "base_uri": "https://localhost:8080/",
          "height": 337
        },
        "outputId": "1359fed1-e7f2-4a07-9471-6a7536adfe3e"
      },
      "source": [
        "# Mostra evolução de loss\n",
        "plt.subplot(2, 1, 1)\n",
        "plt.plot(history.history['loss'])\n",
        "plt.title('loss')\n",
        "plt.ylabel('loss')\n",
        "plt.xlabel('epoch')\n",
        "plt.legend(['loss'], loc='upper left')\n",
        "plt.show()\n",
        "\n",
        "plt.subplot(2, 1, 2)\n",
        "plt.plot(history.history['accuracy'])\n",
        "plt.title('accuracy')\n",
        "plt.ylabel('accuracy')\n",
        "plt.xlabel('epoch')\n",
        "plt.legend(['accuracy'], loc='upper left')\n",
        "plt.show()"
      ],
      "execution_count": 65,
      "outputs": [
        {
          "output_type": "display_data",
          "data": {
            "image/png": "[encoded data removed]",
            "text/plain": [
              "<Figure size 432x288 with 1 Axes>"
            ]
          },
          "metadata": {
            "tags": []
          }
        },
        {
          "output_type": "display_data",
          "data": {
            "image/png": "[encoded data removed]",
            "text/plain": [
              "<Figure size 432x288 with 1 Axes>"
            ]
          },
          "metadata": {
            "tags": []
          }
        }
      ]
    },
    {
      "cell_type": "code",
      "metadata": {
        "id": "Q3ApvqVdDWxF",
        "colab_type": "code",
        "outputId": "557cd367-bb51-42b1-ffb0-0c7fe954afab",
        "colab": {
          "base_uri": "https://localhost:8080/",
          "height": 235
        }
      },
      "source": [
        "# Faz previsão da próxima dezena utilizando o ultimo resultado\n",
        "previsao = model.predict(ultimo_resultado)\n",
        "dezenas_pred = previsao[0,-1,:]\n",
        "dezenas_pred"
      ],
      "execution_count": 72,
      "outputs": [
        {
          "output_type": "execute_result",
          "data": {
            "text/plain": [
              "array([0.09812406, 0.0359278 , 0.12724799, 0.12482271, 0.06840292,\n",
              "       0.06001872, 0.04909492, 0.06650862, 0.14880982, 0.08587849,\n",
              "       0.03706458, 0.07466528, 0.12920967, 0.06567422, 0.06773189,\n",
              "       0.08582085, 0.04162252, 0.20880938, 0.18414706, 0.21570262,\n",
              "       0.09122369, 0.01310274, 0.13449052, 0.03329998, 0.04514444,\n",
              "       0.29458657, 0.03027245, 0.05707312, 0.22461161, 0.05109835,\n",
              "       0.1598646 , 0.0591338 , 0.09113875, 0.11026064, 0.01077279,\n",
              "       0.01480624, 0.17089972, 0.03575656, 0.13210285, 0.05358955,\n",
              "       0.03442559, 0.07990605, 0.12646827, 0.09616819, 0.10661   ,\n",
              "       0.13380736, 0.13310921, 0.07497767, 0.29838908, 0.0977293 ,\n",
              "       0.22627845, 0.08267561, 0.0631125 , 0.17938259, 0.08098775,\n",
              "       0.03168574, 0.13636753, 0.05734044, 0.06033194, 0.20356297],\n",
              "      dtype=float32)"
            ]
          },
          "metadata": {
            "tags": []
          },
          "execution_count": 72
        }
      ]
    },
    {
      "cell_type": "code",
      "metadata": {
        "id": "NhRTWn5e-e7A",
        "colab_type": "code",
        "colab": {}
      },
      "source": [
        "probabilidade_dezenas = pd.DataFrame({'Dezena': range(1,61),'Probabilidade' : dezenas_pred[:]*100}).sort_values(by=['Probabilidade'], ascending=False)"
      ],
      "execution_count": 0,
      "outputs": []
    },
    {
      "cell_type": "code",
      "metadata": {
        "id": "Q9aW1YLiAJCB",
        "colab_type": "code",
        "outputId": "781d7d5e-82b8-41a7-d2ce-ca5ee5175b77",
        "colab": {
          "base_uri": "https://localhost:8080/",
          "height": 1000
        }
      },
      "source": [
        "probabilidade_dezenas"
      ],
      "execution_count": 74,
      "outputs": [
        {
          "output_type": "execute_result",
          "data": {
            "text/html": [
              "<div>\n",
              "<style scoped>\n",
              "    .dataframe tbody tr th:only-of-type {\n",
              "        vertical-align: middle;\n",
              "    }\n",
              "\n",
              "    .dataframe tbody tr th {\n",
              "        vertical-align: top;\n",
              "    }\n",
              "\n",
              "    .dataframe thead th {\n",
              "        text-align: right;\n",
              "    }\n",
              "</style>\n",
              "<table border=\"1\" class=\"dataframe\">\n",
              "  <thead>\n",
              "    <tr style=\"text-align: right;\">\n",
              "      <th></th>\n",
              "      <th>Dezena</th>\n",
              "      <th>Probabilidade</th>\n",
              "    </tr>\n",
              "  </thead>\n",
              "  <tbody>\n",
              "    <tr>\n",
              "      <th>48</th>\n",
              "      <td>49</td>\n",
              "      <td>29.838907</td>\n",
              "    </tr>\n",
              "    <tr>\n",
              "      <th>25</th>\n",
              "      <td>26</td>\n",
              "      <td>29.458656</td>\n",
              "    </tr>\n",
              "    <tr>\n",
              "      <th>50</th>\n",
              "      <td>51</td>\n",
              "      <td>22.627846</td>\n",
              "    </tr>\n",
              "    <tr>\n",
              "      <th>28</th>\n",
              "      <td>29</td>\n",
              "      <td>22.461161</td>\n",
              "    </tr>\n",
              "    <tr>\n",
              "      <th>19</th>\n",
              "      <td>20</td>\n",
              "      <td>21.570263</td>\n",
              "    </tr>\n",
              "    <tr>\n",
              "      <th>17</th>\n",
              "      <td>18</td>\n",
              "      <td>20.880938</td>\n",
              "    </tr>\n",
              "    <tr>\n",
              "      <th>59</th>\n",
              "      <td>60</td>\n",
              "      <td>20.356297</td>\n",
              "    </tr>\n",
              "    <tr>\n",
              "      <th>18</th>\n",
              "      <td>19</td>\n",
              "      <td>18.414705</td>\n",
              "    </tr>\n",
              "    <tr>\n",
              "      <th>53</th>\n",
              "      <td>54</td>\n",
              "      <td>17.938259</td>\n",
              "    </tr>\n",
              "    <tr>\n",
              "      <th>36</th>\n",
              "      <td>37</td>\n",
              "      <td>17.089972</td>\n",
              "    </tr>\n",
              "    <tr>\n",
              "      <th>30</th>\n",
              "      <td>31</td>\n",
              "      <td>15.986461</td>\n",
              "    </tr>\n",
              "    <tr>\n",
              "      <th>8</th>\n",
              "      <td>9</td>\n",
              "      <td>14.880982</td>\n",
              "    </tr>\n",
              "    <tr>\n",
              "      <th>56</th>\n",
              "      <td>57</td>\n",
              "      <td>13.636753</td>\n",
              "    </tr>\n",
              "    <tr>\n",
              "      <th>22</th>\n",
              "      <td>23</td>\n",
              "      <td>13.449052</td>\n",
              "    </tr>\n",
              "    <tr>\n",
              "      <th>45</th>\n",
              "      <td>46</td>\n",
              "      <td>13.380736</td>\n",
              "    </tr>\n",
              "    <tr>\n",
              "      <th>46</th>\n",
              "      <td>47</td>\n",
              "      <td>13.310921</td>\n",
              "    </tr>\n",
              "    <tr>\n",
              "      <th>38</th>\n",
              "      <td>39</td>\n",
              "      <td>13.210285</td>\n",
              "    </tr>\n",
              "    <tr>\n",
              "      <th>12</th>\n",
              "      <td>13</td>\n",
              "      <td>12.920967</td>\n",
              "    </tr>\n",
              "    <tr>\n",
              "      <th>2</th>\n",
              "      <td>3</td>\n",
              "      <td>12.724799</td>\n",
              "    </tr>\n",
              "    <tr>\n",
              "      <th>42</th>\n",
              "      <td>43</td>\n",
              "      <td>12.646827</td>\n",
              "    </tr>\n",
              "    <tr>\n",
              "      <th>3</th>\n",
              "      <td>4</td>\n",
              "      <td>12.482270</td>\n",
              "    </tr>\n",
              "    <tr>\n",
              "      <th>33</th>\n",
              "      <td>34</td>\n",
              "      <td>11.026064</td>\n",
              "    </tr>\n",
              "    <tr>\n",
              "      <th>44</th>\n",
              "      <td>45</td>\n",
              "      <td>10.661000</td>\n",
              "    </tr>\n",
              "    <tr>\n",
              "      <th>0</th>\n",
              "      <td>1</td>\n",
              "      <td>9.812406</td>\n",
              "    </tr>\n",
              "    <tr>\n",
              "      <th>49</th>\n",
              "      <td>50</td>\n",
              "      <td>9.772929</td>\n",
              "    </tr>\n",
              "    <tr>\n",
              "      <th>43</th>\n",
              "      <td>44</td>\n",
              "      <td>9.616819</td>\n",
              "    </tr>\n",
              "    <tr>\n",
              "      <th>20</th>\n",
              "      <td>21</td>\n",
              "      <td>9.122369</td>\n",
              "    </tr>\n",
              "    <tr>\n",
              "      <th>32</th>\n",
              "      <td>33</td>\n",
              "      <td>9.113875</td>\n",
              "    </tr>\n",
              "    <tr>\n",
              "      <th>9</th>\n",
              "      <td>10</td>\n",
              "      <td>8.587849</td>\n",
              "    </tr>\n",
              "    <tr>\n",
              "      <th>15</th>\n",
              "      <td>16</td>\n",
              "      <td>8.582086</td>\n",
              "    </tr>\n",
              "    <tr>\n",
              "      <th>51</th>\n",
              "      <td>52</td>\n",
              "      <td>8.267561</td>\n",
              "    </tr>\n",
              "    <tr>\n",
              "      <th>54</th>\n",
              "      <td>55</td>\n",
              "      <td>8.098775</td>\n",
              "    </tr>\n",
              "    <tr>\n",
              "      <th>41</th>\n",
              "      <td>42</td>\n",
              "      <td>7.990604</td>\n",
              "    </tr>\n",
              "    <tr>\n",
              "      <th>47</th>\n",
              "      <td>48</td>\n",
              "      <td>7.497766</td>\n",
              "    </tr>\n",
              "    <tr>\n",
              "      <th>11</th>\n",
              "      <td>12</td>\n",
              "      <td>7.466528</td>\n",
              "    </tr>\n",
              "    <tr>\n",
              "      <th>4</th>\n",
              "      <td>5</td>\n",
              "      <td>6.840292</td>\n",
              "    </tr>\n",
              "    <tr>\n",
              "      <th>14</th>\n",
              "      <td>15</td>\n",
              "      <td>6.773189</td>\n",
              "    </tr>\n",
              "    <tr>\n",
              "      <th>7</th>\n",
              "      <td>8</td>\n",
              "      <td>6.650862</td>\n",
              "    </tr>\n",
              "    <tr>\n",
              "      <th>13</th>\n",
              "      <td>14</td>\n",
              "      <td>6.567421</td>\n",
              "    </tr>\n",
              "    <tr>\n",
              "      <th>52</th>\n",
              "      <td>53</td>\n",
              "      <td>6.311250</td>\n",
              "    </tr>\n",
              "    <tr>\n",
              "      <th>58</th>\n",
              "      <td>59</td>\n",
              "      <td>6.033194</td>\n",
              "    </tr>\n",
              "    <tr>\n",
              "      <th>5</th>\n",
              "      <td>6</td>\n",
              "      <td>6.001872</td>\n",
              "    </tr>\n",
              "    <tr>\n",
              "      <th>31</th>\n",
              "      <td>32</td>\n",
              "      <td>5.913380</td>\n",
              "    </tr>\n",
              "    <tr>\n",
              "      <th>57</th>\n",
              "      <td>58</td>\n",
              "      <td>5.734044</td>\n",
              "    </tr>\n",
              "    <tr>\n",
              "      <th>27</th>\n",
              "      <td>28</td>\n",
              "      <td>5.707312</td>\n",
              "    </tr>\n",
              "    <tr>\n",
              "      <th>39</th>\n",
              "      <td>40</td>\n",
              "      <td>5.358955</td>\n",
              "    </tr>\n",
              "    <tr>\n",
              "      <th>29</th>\n",
              "      <td>30</td>\n",
              "      <td>5.109835</td>\n",
              "    </tr>\n",
              "    <tr>\n",
              "      <th>6</th>\n",
              "      <td>7</td>\n",
              "      <td>4.909492</td>\n",
              "    </tr>\n",
              "    <tr>\n",
              "      <th>24</th>\n",
              "      <td>25</td>\n",
              "      <td>4.514444</td>\n",
              "    </tr>\n",
              "    <tr>\n",
              "      <th>16</th>\n",
              "      <td>17</td>\n",
              "      <td>4.162252</td>\n",
              "    </tr>\n",
              "    <tr>\n",
              "      <th>10</th>\n",
              "      <td>11</td>\n",
              "      <td>3.706458</td>\n",
              "    </tr>\n",
              "    <tr>\n",
              "      <th>1</th>\n",
              "      <td>2</td>\n",
              "      <td>3.592780</td>\n",
              "    </tr>\n",
              "    <tr>\n",
              "      <th>37</th>\n",
              "      <td>38</td>\n",
              "      <td>3.575656</td>\n",
              "    </tr>\n",
              "    <tr>\n",
              "      <th>40</th>\n",
              "      <td>41</td>\n",
              "      <td>3.442559</td>\n",
              "    </tr>\n",
              "    <tr>\n",
              "      <th>23</th>\n",
              "      <td>24</td>\n",
              "      <td>3.329998</td>\n",
              "    </tr>\n",
              "    <tr>\n",
              "      <th>55</th>\n",
              "      <td>56</td>\n",
              "      <td>3.168574</td>\n",
              "    </tr>\n",
              "    <tr>\n",
              "      <th>26</th>\n",
              "      <td>27</td>\n",
              "      <td>3.027246</td>\n",
              "    </tr>\n",
              "    <tr>\n",
              "      <th>35</th>\n",
              "      <td>36</td>\n",
              "      <td>1.480624</td>\n",
              "    </tr>\n",
              "    <tr>\n",
              "      <th>21</th>\n",
              "      <td>22</td>\n",
              "      <td>1.310274</td>\n",
              "    </tr>\n",
              "    <tr>\n",
              "      <th>34</th>\n",
              "      <td>35</td>\n",
              "      <td>1.077279</td>\n",
              "    </tr>\n",
              "  </tbody>\n",
              "</table>\n",
              "</div>"
            ],
            "text/plain": [
              "    Dezena  Probabilidade\n",
              "48      49      29.838907\n",
              "25      26      29.458656\n",
              "50      51      22.627846\n",
              "28      29      22.461161\n",
              "19      20      21.570263\n",
              "17      18      20.880938\n",
              "59      60      20.356297\n",
              "18      19      18.414705\n",
              "53      54      17.938259\n",
              "36      37      17.089972\n",
              "30      31      15.986461\n",
              "8        9      14.880982\n",
              "56      57      13.636753\n",
              "22      23      13.449052\n",
              "45      46      13.380736\n",
              "46      47      13.310921\n",
              "38      39      13.210285\n",
              "12      13      12.920967\n",
              "2        3      12.724799\n",
              "42      43      12.646827\n",
              "3        4      12.482270\n",
              "33      34      11.026064\n",
              "44      45      10.661000\n",
              "0        1       9.812406\n",
              "49      50       9.772929\n",
              "43      44       9.616819\n",
              "20      21       9.122369\n",
              "32      33       9.113875\n",
              "9       10       8.587849\n",
              "15      16       8.582086\n",
              "51      52       8.267561\n",
              "54      55       8.098775\n",
              "41      42       7.990604\n",
              "47      48       7.497766\n",
              "11      12       7.466528\n",
              "4        5       6.840292\n",
              "14      15       6.773189\n",
              "7        8       6.650862\n",
              "13      14       6.567421\n",
              "52      53       6.311250\n",
              "58      59       6.033194\n",
              "5        6       6.001872\n",
              "31      32       5.913380\n",
              "57      58       5.734044\n",
              "27      28       5.707312\n",
              "39      40       5.358955\n",
              "29      30       5.109835\n",
              "6        7       4.909492\n",
              "24      25       4.514444\n",
              "16      17       4.162252\n",
              "10      11       3.706458\n",
              "1        2       3.592780\n",
              "37      38       3.575656\n",
              "40      41       3.442559\n",
              "23      24       3.329998\n",
              "55      56       3.168574\n",
              "26      27       3.027246\n",
              "35      36       1.480624\n",
              "21      22       1.310274\n",
              "34      35       1.077279"
            ]
          },
          "metadata": {
            "tags": []
          },
          "execution_count": 74
        }
      ]
    },
    {
      "cell_type": "markdown",
      "metadata": {
        "id": "jw09ZSBMD_Yp",
        "colab_type": "text"
      },
      "source": [
        "É observado pelo resultado que algumas dezenas tem uma probabilidade superior que as outras."
      ]
    },
    {
      "cell_type": "code",
      "metadata": {
        "id": "tJ5h6mtgApPB",
        "colab_type": "code",
        "outputId": "776cd8f4-fd9a-4d39-84c4-fbb9dd92a07c",
        "colab": {
          "base_uri": "https://localhost:8080/",
          "height": 295
        }
      },
      "source": [
        "# Histograma\n",
        "fig, ax1 = plt.subplots()\n",
        "\n",
        "#plt.figure(figsize=(10, 6))\n",
        "# Frequencia das dezenas nos resultados\n",
        "n, bins, patches = plt.hist(dezenas.to_numpy(), \n",
        "                            bins= np.arange(1 - 0.5, 60 + 0.5 + 1, 1),color='b')\n",
        "plt.ylabel('Contagem',color='b')\n",
        "plt.xlabel('Dezenas')\n",
        "# \"Probabilidade\" das dezenas gerado pela rede neural\n",
        "# É criada uma nova escala, pois os valores são de magnitudes diferentes\n",
        "ax2 = ax1.twinx()\n",
        "plt.bar(range(1,61),dezenas_pred[:],color='r')\n",
        "plt.ylabel('Probabilidade Modelo', color='r')\n",
        "plt.title('Histograma de sorteio de dezenas e previsao probabilidade modelo')\n",
        "plt.xlim(0.5, 60.5)\n",
        "plt.grid(True)\n",
        "plt.show()\n",
        "\n"
      ],
      "execution_count": 89,
      "outputs": [
        {
          "output_type": "display_data",
          "data": {
            "image/png": "[encoded data removed]",
            "text/plain": [
              "<Figure size 432x288 with 2 Axes>"
            ]
          },
          "metadata": {
            "tags": []
          }
        }
      ]
    },
    {
      "cell_type": "markdown",
      "metadata": {
        "id": "z_Pn0Lk0gt-S",
        "colab_type": "text"
      },
      "source": [
        "Se voce pretende utilizar esses resultados para jogar na Mega, então escolha as os números com previsão de maior probabilidade. e boa sorte:"
      ]
    },
    {
      "cell_type": "code",
      "metadata": {
        "id": "QsqzsXY3g92_",
        "colab_type": "code",
        "colab": {
          "base_uri": "https://localhost:8080/",
          "height": 343
        },
        "outputId": "554acd06-8cc3-406d-e407-1a4226dd2214"
      },
      "source": [
        "probabilidade_dezenas.head(10)"
      ],
      "execution_count": 92,
      "outputs": [
        {
          "output_type": "execute_result",
          "data": {
            "text/html": [
              "<div>\n",
              "<style scoped>\n",
              "    .dataframe tbody tr th:only-of-type {\n",
              "        vertical-align: middle;\n",
              "    }\n",
              "\n",
              "    .dataframe tbody tr th {\n",
              "        vertical-align: top;\n",
              "    }\n",
              "\n",
              "    .dataframe thead th {\n",
              "        text-align: right;\n",
              "    }\n",
              "</style>\n",
              "<table border=\"1\" class=\"dataframe\">\n",
              "  <thead>\n",
              "    <tr style=\"text-align: right;\">\n",
              "      <th></th>\n",
              "      <th>Dezena</th>\n",
              "      <th>Probabilidade</th>\n",
              "    </tr>\n",
              "  </thead>\n",
              "  <tbody>\n",
              "    <tr>\n",
              "      <th>48</th>\n",
              "      <td>49</td>\n",
              "      <td>29.838907</td>\n",
              "    </tr>\n",
              "    <tr>\n",
              "      <th>25</th>\n",
              "      <td>26</td>\n",
              "      <td>29.458656</td>\n",
              "    </tr>\n",
              "    <tr>\n",
              "      <th>50</th>\n",
              "      <td>51</td>\n",
              "      <td>22.627846</td>\n",
              "    </tr>\n",
              "    <tr>\n",
              "      <th>28</th>\n",
              "      <td>29</td>\n",
              "      <td>22.461161</td>\n",
              "    </tr>\n",
              "    <tr>\n",
              "      <th>19</th>\n",
              "      <td>20</td>\n",
              "      <td>21.570263</td>\n",
              "    </tr>\n",
              "    <tr>\n",
              "      <th>17</th>\n",
              "      <td>18</td>\n",
              "      <td>20.880938</td>\n",
              "    </tr>\n",
              "    <tr>\n",
              "      <th>59</th>\n",
              "      <td>60</td>\n",
              "      <td>20.356297</td>\n",
              "    </tr>\n",
              "    <tr>\n",
              "      <th>18</th>\n",
              "      <td>19</td>\n",
              "      <td>18.414705</td>\n",
              "    </tr>\n",
              "    <tr>\n",
              "      <th>53</th>\n",
              "      <td>54</td>\n",
              "      <td>17.938259</td>\n",
              "    </tr>\n",
              "    <tr>\n",
              "      <th>36</th>\n",
              "      <td>37</td>\n",
              "      <td>17.089972</td>\n",
              "    </tr>\n",
              "  </tbody>\n",
              "</table>\n",
              "</div>"
            ],
            "text/plain": [
              "    Dezena  Probabilidade\n",
              "48      49      29.838907\n",
              "25      26      29.458656\n",
              "50      51      22.627846\n",
              "28      29      22.461161\n",
              "19      20      21.570263\n",
              "17      18      20.880938\n",
              "59      60      20.356297\n",
              "18      19      18.414705\n",
              "53      54      17.938259\n",
              "36      37      17.089972"
            ]
          },
          "metadata": {
            "tags": []
          },
          "execution_count": 92
        }
      ]
    },
    {
      "cell_type": "markdown",
      "metadata": {
        "id": "_EA5cIoZfb1R",
        "colab_type": "text"
      },
      "source": [
        "# Conclusão\n",
        "Esse tutorial mostrou operações básicas com o **Keras** e **Colab**. Provavelmente as redes não devem acertar nenhum previsão, pois supoe-se que os sorteios da Mega-sena são aletórios, e nenhuma rede deve ser capaz de modelor algo aleatório. Entretanto foi um bom exercício para entender melhor como as redes funcionam, e como uasr o **Colab** e **Keras**"
      ]
    }
  ]
}
